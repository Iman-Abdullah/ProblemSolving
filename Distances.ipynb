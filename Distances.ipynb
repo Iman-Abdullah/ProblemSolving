{
  "nbformat": 4,
  "nbformat_minor": 0,
  "metadata": {
    "colab": {
      "provenance": []
    },
    "kernelspec": {
      "name": "python3",
      "display_name": "Python 3"
    },
    "language_info": {
      "name": "python"
    }
  },
  "cells": [
    {
      "cell_type": "code",
      "execution_count": 2,
      "metadata": {
        "colab": {
          "base_uri": "https://localhost:8080/"
        },
        "id": "GGm6zQXQXuxL",
        "outputId": "347bd6f2-b3b0-4d50-8855-0df60f2f0022"
      },
      "outputs": [
        {
          "output_type": "stream",
          "name": "stdout",
          "text": [
            "True\n",
            "False\n",
            "True\n"
          ]
        }
      ],
      "source": [
        "def path(distances):\n",
        "    directions = [(0, 1), (-1, 0), (0, -1), (1, 0)]\n",
        "    visited = set()\n",
        "    x, y = 0, 0\n",
        "    visited.add((x, y))\n",
        "\n",
        "    for i, d in enumerate(distances):\n",
        "        dx, dy = directions[i % 4]\n",
        "        for _ in range(d):\n",
        "            x += dx\n",
        "            y += dy\n",
        "            if (x, y) in visited:\n",
        "                return True\n",
        "            visited.add((x, y))\n",
        "\n",
        "    return False\n",
        "\n",
        "print(path([2, 1, 1, 2]))\n",
        "print(path([1, 2, 3, 4]))\n",
        "print(path([1, 1, 2, 1, 1]))\n"
      ]
    },
    {
      "cell_type": "code",
      "source": [],
      "metadata": {
        "colab": {
          "base_uri": "https://localhost:8080/"
        },
        "id": "bIIZEx7oiTFM",
        "outputId": "e98d0c14-2ca6-42b2-bc42-6d3be72a5456"
      },
      "execution_count": 1,
      "outputs": [
        {
          "output_type": "stream",
          "name": "stdout",
          "text": [
            "True\n",
            "False\n",
            "True\n"
          ]
        }
      ]
    }
  ]
}