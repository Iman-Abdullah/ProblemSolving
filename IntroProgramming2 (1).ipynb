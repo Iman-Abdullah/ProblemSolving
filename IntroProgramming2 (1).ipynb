{
  "nbformat": 4,
  "nbformat_minor": 0,
  "metadata": {
    "colab": {
      "provenance": []
    },
    "kernelspec": {
      "name": "python3",
      "display_name": "Python 3"
    },
    "language_info": {
      "name": "python"
    }
  },
  "cells": [
    {
      "cell_type": "code",
      "execution_count": null,
      "metadata": {
        "id": "XSnsb9nKc34g",
        "colab": {
          "base_uri": "https://localhost:8080/"
        },
        "outputId": "23ae8262-1cb2-404d-d39f-fbaa08992b96"
      },
      "outputs": [
        {
          "output_type": "stream",
          "name": "stdout",
          "text": [
            "Enter the temperature of the water : 102.3\n",
            "not liquid\n"
          ]
        }
      ],
      "source": [
        "temp = float(input(\"Enter the temperature of the water : \"))\n",
        "\n",
        "if temp > 0 and temp <= 100 :\n",
        "  print(\"Liquid\")\n",
        "else:\n",
        "  print(\"not liquid\")"
      ]
    },
    {
      "cell_type": "code",
      "source": [
        "attending = True\n",
        "grade = 70\n",
        "\n",
        "if not attending or grade < 60:\n",
        "  print(\"Drop ?\")\n",
        "elif attending and not (grade < 60):\n",
        "  print(\"stay\")"
      ],
      "metadata": {
        "colab": {
          "base_uri": "https://localhost:8080/"
        },
        "id": "XkUM1qxCljAA",
        "outputId": "ca1a017a-0f4e-418f-ebfc-9d331cdbc0cc"
      },
      "execution_count": null,
      "outputs": [
        {
          "output_type": "stream",
          "name": "stdout",
          "text": [
            "stay\n"
          ]
        }
      ]
    },
    {
      "cell_type": "code",
      "source": [
        "userPassword = input(\"Enter user password : \")\n",
        "filePassword = input(\"Enter file password : \")\n",
        "\n",
        "if userPassword != filePassword :\n",
        "  print(\"Not the same re-enter correct password\")\n",
        "else:\n",
        "  print(\"Success\")\n"
      ],
      "metadata": {
        "colab": {
          "base_uri": "https://localhost:8080/"
        },
        "id": "cAFIUEW1pSpF",
        "outputId": "bca4dac1-f207-4457-8e83-99c4cf971e9e"
      },
      "execution_count": null,
      "outputs": [
        {
          "output_type": "stream",
          "name": "stdout",
          "text": [
            "Enter user password : aa1234\n",
            "Enter file password : ab1234\n",
            "Not the same re-enter correct password\n"
          ]
        }
      ]
    },
    {
      "cell_type": "code",
      "source": [
        "num1= int(input(\"Enter number 1 :\" ))\n",
        "num2= int(input(\"Enter number 2 :\" ))\n",
        "\n",
        "if num1 > 0 and num1 == num2:\n",
        "  print(\"num1 grater than 0 or num1 is equal to num2\")\n",
        "elif num1 < num2 or num1 == num2:\n",
        "    print(\"num1 less than num2 or num1 is equal to num2\")\n",
        "else:\n",
        "  print(\"wrong num\")\n",
        "\n",
        "\n"
      ],
      "metadata": {
        "colab": {
          "base_uri": "https://localhost:8080/"
        },
        "id": "cPyqslhGq9F_",
        "outputId": "8f417ffe-fb52-4b8f-9292-440982bcdc89"
      },
      "execution_count": null,
      "outputs": [
        {
          "output_type": "stream",
          "name": "stdout",
          "text": [
            "Enter number 1 :7\n",
            "Enter number 2 :10\n",
            "num1 less than num2 or num1 is equal to num2\n"
          ]
        }
      ]
    },
    {
      "cell_type": "code",
      "source": [
        "epsilon = 2.0\n",
        "a = float(input(\"Enter number 1: \"))\n",
        "b = float(input(\"Enter number 2: \"))\n",
        "\n",
        "if a - b < epsilon:\n",
        "    print(\"Numbers are approximately equal\")\n",
        "else:\n",
        "    print(\"Not the same, re-enter correct numbers\")\n"
      ],
      "metadata": {
        "colab": {
          "base_uri": "https://localhost:8080/"
        },
        "id": "eMzOiGY0uX3b",
        "outputId": "7f394de0-d5ed-417f-92bd-aa5f55881e17"
      },
      "execution_count": null,
      "outputs": [
        {
          "output_type": "stream",
          "name": "stdout",
          "text": [
            "Enter number 1: 2.4\n",
            "Enter number 2: 2.2\n",
            "Numbers are approximately equal\n"
          ]
        }
      ]
    },
    {
      "cell_type": "code",
      "source": [
        "frozen = False\n",
        "\n",
        "if frozen == True:\n",
        "  print(\"frozen\")\n",
        "else:\n",
        "  print(\"Not frozen\")"
      ],
      "metadata": {
        "colab": {
          "base_uri": "https://localhost:8080/"
        },
        "id": "6FkYiEtvxHOL",
        "outputId": "661012b3-0898-4e57-e121-f2aff3ae4695"
      },
      "execution_count": null,
      "outputs": [
        {
          "output_type": "stream",
          "name": "stdout",
          "text": [
            "Not frozen\n"
          ]
        }
      ]
    },
    {
      "cell_type": "code",
      "source": [
        "name = \"Iman\"\n",
        "if \"i\" in name or \"I\" in name :\n",
        "  print(name)\n",
        "else:\n",
        "  print(\"False\")\n"
      ],
      "metadata": {
        "colab": {
          "base_uri": "https://localhost:8080/"
        },
        "id": "Ip8uxen-60Q3",
        "outputId": "54252d76-1294-404b-8e7c-6276d2007173"
      },
      "execution_count": null,
      "outputs": [
        {
          "output_type": "stream",
          "name": "stdout",
          "text": [
            "Iman\n"
          ]
        }
      ]
    },
    {
      "cell_type": "code",
      "source": [
        "name = \"Rahaf\"\n",
        "if \"i\" not in name or \"I\" not in name :\n",
        "  print(name)\n",
        "else:\n",
        "  print(\"False\")\n"
      ],
      "metadata": {
        "colab": {
          "base_uri": "https://localhost:8080/"
        },
        "id": "ISUbpVlL7GRB",
        "outputId": "22104b64-503f-4ec6-8afa-c028bd10d83f"
      },
      "execution_count": null,
      "outputs": [
        {
          "output_type": "stream",
          "name": "stdout",
          "text": [
            "Rahaf\n"
          ]
        }
      ]
    },
    {
      "cell_type": "code",
      "source": [
        "name = \"Abdullah\"\n",
        "if name.endswith(\"h\"):\n",
        "  print(name)"
      ],
      "metadata": {
        "colab": {
          "base_uri": "https://localhost:8080/"
        },
        "id": "vHFpvlOf76Mm",
        "outputId": "66df995f-9bc0-4889-d089-9867d3053a55"
      },
      "execution_count": null,
      "outputs": [
        {
          "output_type": "stream",
          "name": "stdout",
          "text": [
            "Abdullah\n"
          ]
        }
      ]
    },
    {
      "cell_type": "code",
      "source": [
        "name = \"Abdullah\"\n",
        "if name.startswith(\"A\"):\n",
        "  print(name)"
      ],
      "metadata": {
        "colab": {
          "base_uri": "https://localhost:8080/"
        },
        "id": "EFojUtu58EpW",
        "outputId": "6fb64504-0721-40af-ae38-41a1fd38a732"
      },
      "execution_count": null,
      "outputs": [
        {
          "output_type": "stream",
          "name": "stdout",
          "text": [
            "Abdullah\n"
          ]
        }
      ]
    },
    {
      "cell_type": "code",
      "source": [
        "name = \"Abdullah\"\n",
        "name.count(\"l\")"
      ],
      "metadata": {
        "colab": {
          "base_uri": "https://localhost:8080/"
        },
        "id": "oyt90-7y-hA4",
        "outputId": "46f2dd9b-fb90-46a8-e9a3-d4739f74bcce"
      },
      "execution_count": null,
      "outputs": [
        {
          "output_type": "execute_result",
          "data": {
            "text/plain": [
              "2"
            ]
          },
          "metadata": {},
          "execution_count": 42
        }
      ]
    },
    {
      "cell_type": "code",
      "source": [
        "name = \"Abdullah\"\n",
        "name.find(\"d\")"
      ],
      "metadata": {
        "colab": {
          "base_uri": "https://localhost:8080/"
        },
        "id": "8rr89mB89tlb",
        "outputId": "29b35af9-3d05-40ea-dad9-1aab949cd644"
      },
      "execution_count": null,
      "outputs": [
        {
          "output_type": "execute_result",
          "data": {
            "text/plain": [
              "2"
            ]
          },
          "metadata": {},
          "execution_count": 45
        }
      ]
    },
    {
      "cell_type": "code",
      "source": [
        "name = \"Abdullah\"\n",
        "name.isalpha()"
      ],
      "metadata": {
        "colab": {
          "base_uri": "https://localhost:8080/"
        },
        "id": "Xjn51yHj-5aW",
        "outputId": "fdd23b10-930c-43fa-aa85-a83b8098ba3c"
      },
      "execution_count": null,
      "outputs": [
        {
          "output_type": "execute_result",
          "data": {
            "text/plain": [
              "True"
            ]
          },
          "metadata": {},
          "execution_count": 46
        }
      ]
    },
    {
      "cell_type": "code",
      "source": [
        "name = \"Abdullah\"\n",
        "name.isdigit()"
      ],
      "metadata": {
        "colab": {
          "base_uri": "https://localhost:8080/"
        },
        "id": "HrbvDCDV-5RF",
        "outputId": "ac85c955-2f4a-423b-a7c7-eb7869d502e6"
      },
      "execution_count": null,
      "outputs": [
        {
          "output_type": "execute_result",
          "data": {
            "text/plain": [
              "False"
            ]
          },
          "metadata": {},
          "execution_count": 65
        }
      ]
    },
    {
      "cell_type": "code",
      "source": [
        "name = \"Abdullah\"\n",
        "name.isalnum()"
      ],
      "metadata": {
        "colab": {
          "base_uri": "https://localhost:8080/"
        },
        "id": "d16Vy4yu-49x",
        "outputId": "037c40e8-7016-469d-a5cb-66f96a76f33a"
      },
      "execution_count": null,
      "outputs": [
        {
          "output_type": "execute_result",
          "data": {
            "text/plain": [
              "True"
            ]
          },
          "metadata": {},
          "execution_count": 48
        }
      ]
    },
    {
      "cell_type": "code",
      "source": [
        "name = \"ABDULLAH\"\n",
        "name.isupper()"
      ],
      "metadata": {
        "colab": {
          "base_uri": "https://localhost:8080/"
        },
        "id": "pVihnSbzAHRK",
        "outputId": "9a18ef0e-1dd3-4bc8-dfcc-dad497f42ecc"
      },
      "execution_count": null,
      "outputs": [
        {
          "output_type": "execute_result",
          "data": {
            "text/plain": [
              "True"
            ]
          },
          "metadata": {},
          "execution_count": 52
        }
      ]
    },
    {
      "cell_type": "code",
      "source": [
        "name = \"Abdullah\"\n",
        "name.islower()"
      ],
      "metadata": {
        "colab": {
          "base_uri": "https://localhost:8080/"
        },
        "id": "vJuuGPdtAHJM",
        "outputId": "3041295e-2f60-4605-991b-a0193f1f4df0"
      },
      "execution_count": null,
      "outputs": [
        {
          "output_type": "execute_result",
          "data": {
            "text/plain": [
              "False"
            ]
          },
          "metadata": {},
          "execution_count": 50
        }
      ]
    },
    {
      "cell_type": "code",
      "source": [
        "name = \"   \"\n",
        "name.isspace()"
      ],
      "metadata": {
        "colab": {
          "base_uri": "https://localhost:8080/"
        },
        "id": "jUiYpZjeAG_L",
        "outputId": "d28c4087-57c9-43a8-ecf2-f36d3deef279"
      },
      "execution_count": null,
      "outputs": [
        {
          "output_type": "execute_result",
          "data": {
            "text/plain": [
              "True"
            ]
          },
          "metadata": {},
          "execution_count": 55
        }
      ]
    },
    {
      "cell_type": "code",
      "source": [
        "floor = int(input(\"Enter floor number : \"))\n",
        "if floor == 13:\n",
        "  print(\"Error: There is no thirteenth floor\")\n",
        "\n",
        "elif floor <= 0 or floor > 20 :\n",
        "  print(\"Error: The floor must be between 1 and 20\")\n",
        "else:\n",
        "  print(floor)"
      ],
      "metadata": {
        "colab": {
          "base_uri": "https://localhost:8080/"
        },
        "id": "Md9iB5O5A8Bw",
        "outputId": "112396a9-2e87-4df9-c5a1-75104131e821"
      },
      "execution_count": null,
      "outputs": [
        {
          "output_type": "stream",
          "name": "stdout",
          "text": [
            "Enter floor number : 22\n",
            "Error: The floor must be between 1 and 20\n"
          ]
        }
      ]
    },
    {
      "cell_type": "code",
      "source": [
        "import sys\n",
        "\n",
        "username = input(\"Enter username: \")\n",
        "password = input(\"Enter password: \")\n",
        "\n",
        "if not username or \" \" in username:\n",
        "    print(\"Invalid\")\n",
        "    sys.exit()\n",
        "\n",
        "if (len(password) < 8 or\n",
        "    not any(char.isdigit() for char in password) or\n",
        "    not any(char.isupper() for char in password) or\n",
        "    not any(char.islower() for char in password)):\n",
        "    print(\"Invalid\")\n",
        "    sys.exit()\n",
        "\n",
        "print(\"Success\")\n"
      ],
      "metadata": {
        "colab": {
          "base_uri": "https://localhost:8080/"
        },
        "id": "V6rLJA96ImdU",
        "outputId": "559cc1e7-761e-49a5-cfe4-01e197424953"
      },
      "execution_count": null,
      "outputs": [
        {
          "output_type": "stream",
          "name": "stdout",
          "text": [
            "Enter username: Iman\n",
            "Enter password: User1234\n",
            "Success\n"
          ]
        }
      ]
    },
    {
      "cell_type": "code",
      "source": [
        "rate = 5\n",
        "balance = 10000.0\n",
        "target = 20000.0\n",
        "year = 0\n",
        "while balance < target :\n",
        "  year = year + 1\n",
        "  intrest = balance * rate / 100\n",
        "  balance = balance + intrest\n",
        "\n",
        "print(year)"
      ],
      "metadata": {
        "colab": {
          "base_uri": "https://localhost:8080/"
        },
        "id": "jWjWTlw8CcFB",
        "outputId": "6eeefc56-49a6-4503-e12e-81828a87918b"
      },
      "execution_count": null,
      "outputs": [
        {
          "output_type": "stream",
          "name": "stdout",
          "text": [
            "15\n"
          ]
        }
      ]
    },
    {
      "cell_type": "code",
      "source": [
        "counter = 1\n",
        "sum = 0\n",
        "while counter <= 10:\n",
        "  sum =sum +counter\n",
        "  counter = counter + 1\n",
        "print(sum)"
      ],
      "metadata": {
        "colab": {
          "base_uri": "https://localhost:8080/"
        },
        "id": "XbC58GPlEgGo",
        "outputId": "f16556b5-2177-4a69-d334-c851848e2345"
      },
      "execution_count": null,
      "outputs": [
        {
          "output_type": "stream",
          "name": "stdout",
          "text": [
            "55\n"
          ]
        }
      ]
    },
    {
      "cell_type": "code",
      "source": [
        "num = \"1729\"\n",
        "sum = 0\n",
        "\n",
        "for char in num:\n",
        "  i = int(char)\n",
        "  sum += i\n",
        "\n",
        "print(sum)\n"
      ],
      "metadata": {
        "id": "cbvNyEpZlTdB",
        "colab": {
          "base_uri": "https://localhost:8080/"
        },
        "outputId": "743bc683-9a93-4d5c-ec91-82c6da459771"
      },
      "execution_count": null,
      "outputs": [
        {
          "output_type": "stream",
          "name": "stdout",
          "text": [
            "19\n"
          ]
        }
      ]
    },
    {
      "cell_type": "code",
      "source": [],
      "metadata": {
        "id": "kMh8_sEulzWq"
      },
      "execution_count": null,
      "outputs": []
    },
    {
      "cell_type": "code",
      "source": [
        "n = 1729\n",
        "total = 0\n",
        "while n > 0 :\n",
        "  digit = n % 10\n",
        "  total = total + digit\n",
        "  n = n // 10\n",
        "print(total)"
      ],
      "metadata": {
        "id": "3KhNKUjkpgUl",
        "colab": {
          "base_uri": "https://localhost:8080/"
        },
        "outputId": "76f692b5-5cca-47f7-a0ae-5683e8890174"
      },
      "execution_count": null,
      "outputs": [
        {
          "output_type": "stream",
          "name": "stdout",
          "text": [
            "19\n"
          ]
        }
      ]
    },
    {
      "cell_type": "code",
      "source": [
        "total = 0.0\n",
        "count = 0.07654\n",
        "45\n",
        "65\n",
        "\n",
        "salary = 0.0\n",
        "while salary >= 0 :\n",
        "  salary = float(input(\"Enter a salary or -1 to finish : \"))\n",
        "  if salary >= 0.0:\n",
        "    total = total + salary\n",
        "    count = count + 1\n",
        "if count > 0 :\n",
        "  average = total / count\n",
        "  print(\"Average salary is : \",average)\n",
        "else:\n",
        "  print(\"No data was entered\")"
      ],
      "metadata": {
        "colab": {
          "base_uri": "https://localhost:8080/"
        },
        "id": "7jlRQZHQtRRf",
        "outputId": "02b761f2-307f-460c-9a47-2409aaaaf00d"
      },
      "execution_count": null,
      "outputs": [
        {
          "output_type": "stream",
          "name": "stdout",
          "text": [
            "Enter a salary or -1 to finish : 660\n",
            "660.0\n",
            "Enter a salary or -1 to finish : 700\n",
            "1360.0\n",
            "Enter a salary or -1 to finish : 800\n",
            "2160.0\n",
            "Enter a salary or -1 to finish : 890\n",
            "3050.0\n",
            "Enter a salary or -1 to finish : -1\n",
            "Average salary is :  748.183508563635\n"
          ]
        }
      ]
    },
    {
      "cell_type": "code",
      "source": [
        "done = False\n",
        "while not done :\n",
        "  value = float(input(\"Enter a salary or -1 to finish : \"))\n",
        "  if value < 0.0:\n",
        "    done = True\n",
        "  else:\n",
        "    print(done)"
      ],
      "metadata": {
        "colab": {
          "base_uri": "https://localhost:8080/"
        },
        "id": "9E96Uehdt3Nn",
        "outputId": "f50cced0-ba91-4b51-a6fb-b235a2a83a70"
      },
      "execution_count": null,
      "outputs": [
        {
          "name": "stdout",
          "output_type": "stream",
          "text": [
            "Enter a salary or -1 to finish : 44\n",
            "False\n",
            "Enter a salary or -1 to finish : 988\n",
            "False\n",
            "Enter a salary or -1 to finish : -1\n"
          ]
        }
      ]
    },
    {
      "cell_type": "code",
      "source": [
        "balance = 0\n",
        "\n",
        "while balance < 1000:\n",
        "    deposit = 6(input(\"Enter deposit amount: \"))\n",
        "    balance += deposit\n",
        "    print(\"Balance:\", balance)\n",
        "\n",
        "print(\"Total balance:\", balance)\n"
      ],
      "metadata": {
        "colab": {
          "base_uri": "https://localhost:8080/"
        },
        "id": "oLfD0VOHx4eP",
        "outputId": "93657d69-b989-48fd-c092-56f54dccc09a"
      },
      "execution_count": null,
      "outputs": [
        {
          "output_type": "stream",
          "name": "stdout",
          "text": [
            "Enter deposit amount: 654\n",
            "Balance: 654\n",
            "Enter deposit amount: 54\n",
            "Balance: 708\n",
            "Enter deposit amount: 432\n",
            "Balance: 1140\n",
            "Total balance: 1140\n"
          ]
        }
      ]
    },
    {
      "cell_type": "code",
      "source": [
        "total = 0\n",
        "count = 0\n",
        "inputstr= input(\"Enter value : \")\n",
        "\n",
        "while inputstr !=\"\" :\n",
        "  value = float(inputstr)\n",
        "  total = total + value\n",
        "  count = count + 1\n",
        "  inputstr = input()\n",
        "\n",
        "if count > 0 :\n",
        "  average = total / count\n",
        "else :\n",
        "  average = 0.0\n",
        "\n",
        "print(\"Average \",average)"
      ],
      "metadata": {
        "colab": {
          "base_uri": "https://localhost:8080/"
        },
        "id": "lhclM5zDo9ZG",
        "outputId": "d63e030e-c550-4528-967b-d55481a58ade"
      },
      "execution_count": null,
      "outputs": [
        {
          "output_type": "stream",
          "name": "stdout",
          "text": [
            "Enter value : 655\n",
            "865\n",
            "767\n",
            "\n",
            "Average  762.3333333333334\n"
          ]
        }
      ]
    },
    {
      "cell_type": "code",
      "source": [
        "neg = 0\n",
        "pos = 0\n",
        "inputstr = input(\"Enter value : \")\n",
        "\n",
        "while inputstr != \"\" :\n",
        "  value = int(inputstr)\n",
        "  if value < 0 :\n",
        "    neg = neg + 1\n",
        "  elif value > 0 :\n",
        "    pos = pos + 1\n",
        "\n",
        "  inputstr = input()\n",
        "\n",
        "\n",
        "print(\"There were\", neg, \"negative values\")\n",
        "print(\"There were\", pos, \"positive values\")"
      ],
      "metadata": {
        "colab": {
          "base_uri": "https://localhost:8080/"
        },
        "id": "gHowVu22rYON",
        "outputId": "39c3755b-65ad-4fd1-a7d4-11d28b2a2c77"
      },
      "execution_count": null,
      "outputs": [
        {
          "output_type": "stream",
          "name": "stdout",
          "text": [
            "Enter value : 987\n",
            "98\n",
            "-987\n",
            "-45\n",
            "-23\n",
            "\n",
            "There were 3 negative values\n",
            "There were 2 positive-- values\n"
          ]
        }
      ]
    },
    {
      "cell_type": "code",
      "source": [
        "valid =False\n",
        "while not valid:\n",
        "  value = int(input(\"Please enter a positive value < 100 :\"))\n",
        "  if value > 0 and value < 100 :\n",
        "    valid = True\n",
        "  else:\n",
        "    print(\"Invalid input\")"
      ],
      "metadata": {
        "colab": {
          "base_uri": "https://localhost:8080/"
        },
        "id": "jKu8-HFUs4mQ",
        "outputId": "db508794-f05d-485d-ec0b-0183d1ee055c"
      },
      "execution_count": null,
      "outputs": [
        {
          "name": "stdout",
          "output_type": "stream",
          "text": [
            "Please enter a positive value < 100 :1990\n",
            "Invalid input\n",
            "Please enter a positive value < 100 :780\n",
            "Invalid input\n",
            "Please enter a positive value < 100 :90\n"
          ]
        }
      ]
    },
    {
      "cell_type": "code",
      "source": [
        "max = int(input(\"Enter a value : \"))\n",
        "inputstr = input(\"Ente a value : \")\n",
        "while inputstr != \"\" :\n",
        "  value = int(inputstr)\n",
        "  if value > max :\n",
        "    max = value\n",
        "  inputstr = input(\"Ente a value : \")\n",
        "print(max)"
      ],
      "metadata": {
        "colab": {
          "base_uri": "https://localhost:8080/"
        },
        "id": "g2l6gYd8tzyK",
        "outputId": "cce13945-1597-41f5-faa4-2ffac367286a"
      },
      "execution_count": null,
      "outputs": [
        {
          "output_type": "stream",
          "name": "stdout",
          "text": [
            "Enter a value : 8\n",
            "Ente a value : 6\n",
            "Ente a value : 4\n",
            "Ente a value : 7\n",
            "Ente a value : 2\n",
            "Ente a value : \n",
            "8\n"
          ]
        }
      ]
    },
    {
      "cell_type": "code",
      "source": [
        "min = int(input(\"Enter a value : \"))\n",
        "inputstr = input(\"Ente a value : \")\n",
        "while inputstr != \"\" :\n",
        "  value = int(inputstr)\n",
        "  if value < min :\n",
        "    min = value\n",
        "  inputstr = input(\"Ente a value : \")\n",
        "print(min)"
      ],
      "metadata": {
        "colab": {
          "base_uri": "https://localhost:8080/"
        },
        "id": "b86ss8_XyPlB",
        "outputId": "cd39daa7-a7a9-4568-dc7e-4848d4ad740b"
      },
      "execution_count": null,
      "outputs": [
        {
          "output_type": "stream",
          "name": "stdout",
          "text": [
            "Enter a value : 8\n",
            "Ente a value : 6\n",
            "Ente a value : 4\n",
            "Ente a value : 7\n",
            "Ente a value : 2\n",
            "Ente a value : \n",
            "2\n"
          ]
        }
      ]
    },
    {
      "cell_type": "code",
      "source": [
        "value = int(input(\"Enter value : \"))\n",
        "inputstr = input(\"Enter value : \")\n",
        "\n",
        "while inputstr != \"\" :\n",
        "  previous = value\n",
        "  value = int(inputstr)\n",
        "\n",
        "  if value == previous :\n",
        "    print(\"Duplicate input\")\n",
        "  inputstr = input(\"Enter value : \")"
      ],
      "metadata": {
        "colab": {
          "base_uri": "https://localhost:8080/"
        },
        "id": "_7A6-gquzR1S",
        "outputId": "dbc0f3c1-ccd5-4fde-b792-52b3c94dafbf"
      },
      "execution_count": null,
      "outputs": [
        {
          "name": "stdout",
          "output_type": "stream",
          "text": [
            "Enter value : 0\n",
            "Enter value : 6\n",
            "Enter value : 5\n",
            "Enter value : 0\n",
            "Enter value : 0\n",
            "Duplicate input\n",
            "Enter value : 0\n",
            "Duplicate input\n",
            "Enter value : 9\n",
            "Enter value : 8\n",
            "Enter value : \n"
          ]
        }
      ]
    },
    {
      "cell_type": "code",
      "source": [
        "name = \"Iman Abdullah\"\n",
        "for i in name :\n",
        "  print(i, end=\"\")"
      ],
      "metadata": {
        "colab": {
          "base_uri": "https://localhost:8080/"
        },
        "id": "Gv5eR5OJ1eX2",
        "outputId": "4b5631ec-4666-4fb0-bdf8-05c9138453c2"
      },
      "execution_count": null,
      "outputs": [
        {
          "output_type": "stream",
          "name": "stdout",
          "text": [
            "Iman Abdullah"
          ]
        }
      ]
    },
    {
      "cell_type": "code",
      "source": [
        "#range = end - start\n",
        "for i in range(1,10) :\n",
        "  print(i)"
      ],
      "metadata": {
        "colab": {
          "base_uri": "https://localhost:8080/"
        },
        "id": "OSloFR7G3tYw",
        "outputId": "8d97398d-c2e3-4884-d960-12bf5fa4144a"
      },
      "execution_count": null,
      "outputs": [
        {
          "output_type": "stream",
          "name": "stdout",
          "text": [
            "1\n",
            "2\n",
            "3\n",
            "4\n",
            "5\n",
            "6\n",
            "7\n",
            "8\n",
            "9\n"
          ]
        }
      ]
    },
    {
      "cell_type": "code",
      "source": [
        "for i in range(5) :\n",
        "  print(i)"
      ],
      "metadata": {
        "colab": {
          "base_uri": "https://localhost:8080/"
        },
        "id": "PekgqLJ14xgA",
        "outputId": "c05f4cf4-66ce-402e-84aa-d9c7633cc44a"
      },
      "execution_count": null,
      "outputs": [
        {
          "output_type": "stream",
          "name": "stdout",
          "text": [
            "0\n",
            "1\n",
            "2\n",
            "3\n",
            "4\n"
          ]
        }
      ]
    },
    {
      "cell_type": "code",
      "source": [
        "for i in range(1,10,2) :\n",
        "  print(i)"
      ],
      "metadata": {
        "colab": {
          "base_uri": "https://localhost:8080/"
        },
        "id": "2dB_DaW04DVY",
        "outputId": "5cf9efc3-60e3-453d-a0a3-933c041865ea"
      },
      "execution_count": null,
      "outputs": [
        {
          "output_type": "stream",
          "name": "stdout",
          "text": [
            "1\n",
            "3\n",
            "5\n",
            "7\n",
            "9\n"
          ]
        }
      ]
    },
    {
      "cell_type": "code",
      "source": [
        "for i in range(10,1,-2) :\n",
        "  print(i)"
      ],
      "metadata": {
        "colab": {
          "base_uri": "https://localhost:8080/"
        },
        "id": "Y46mE85p4UTc",
        "outputId": "5478737d-5b1f-42e8-ea53-28a4d7b00db5"
      },
      "execution_count": null,
      "outputs": [
        {
          "output_type": "stream",
          "name": "stdout",
          "text": [
            "10\n",
            "8\n",
            "6\n",
            "4\n",
            "2\n"
          ]
        }
      ]
    },
    {
      "cell_type": "code",
      "source": [
        "balance = 10000.00\n",
        "rate = 0.05\n",
        "numYears = int(input(\"Enter number of years : \"))\n",
        "\n",
        "for year in range(1, numYears + 1):\n",
        "    intrest = balance * rate\n",
        "    balance = balance + intrest\n",
        "\n",
        "    print(\"year\",year, \"balance\",balance)\n"
      ],
      "metadata": {
        "colab": {
          "base_uri": "https://localhost:8080/"
        },
        "id": "exFtx69S5HG0",
        "outputId": "dcc649f3-0482-4ce3-93ae-113a77fbd87e"
      },
      "execution_count": null,
      "outputs": [
        {
          "output_type": "stream",
          "name": "stdout",
          "text": [
            "Enter number of years : 5\n",
            "year 1 balance 10500.0\n",
            "year 2 balance 11025.0\n",
            "year 3 balance 11576.25\n",
            "year 4 balance 12155.0625\n",
            "year 5 balance 12762.815625\n"
          ]
        }
      ]
    },
    {
      "cell_type": "code",
      "source": [
        "print(\"00\", end = \"\")\n",
        "print(3 + 4)"
      ],
      "metadata": {
        "colab": {
          "base_uri": "https://localhost:8080/"
        },
        "id": "JGCQVUws7l3v",
        "outputId": "8706b76f-b302-40fd-8f5b-aecfa5c7e6f6"
      },
      "execution_count": null,
      "outputs": [
        {
          "output_type": "stream",
          "name": "stdout",
          "text": [
            "007\n"
          ]
        }
      ]
    },
    {
      "cell_type": "code",
      "source": [
        "#rows  range of the outer loop\n",
        "#columns  range of the inner loop\n",
        "#Neasted loop\n",
        "\n",
        "\n",
        "for x in range(1,11) :\n",
        "  for n in range(1,5):\n",
        "    print(x**n, end=\"\")\n",
        "  print()"
      ],
      "metadata": {
        "colab": {
          "base_uri": "https://localhost:8080/"
        },
        "id": "eD0M4_oZFzuL",
        "outputId": "7bd331c0-fa75-4250-aacb-98fda344c3db"
      },
      "execution_count": null,
      "outputs": [
        {
          "output_type": "stream",
          "name": "stdout",
          "text": [
            "1111\n",
            "24816\n",
            "392781\n",
            "41664256\n",
            "525125625\n",
            "6362161296\n",
            "7493432401\n",
            "8645124096\n",
            "9817296561\n",
            "10100100010000\n"
          ]
        }
      ]
    },
    {
      "cell_type": "code",
      "source": [
        "print('x^1   x^2   x^3   x^4')\n",
        "\n",
        "for x in range(1, 11):\n",
        "    print(f\"{x**1}   {x**2}   {x**3}   {x**4}\")\n"
      ],
      "metadata": {
        "colab": {
          "base_uri": "https://localhost:8080/"
        },
        "id": "5TA7mtmBJLIm",
        "outputId": "6e9829b5-b13e-4090-bf95-72c38af910ea"
      },
      "execution_count": null,
      "outputs": [
        {
          "output_type": "stream",
          "name": "stdout",
          "text": [
            "x^1   x^2   x^3   x^4\n",
            "1   1   1   1\n",
            "2   4   8   16\n",
            "3   9   27   81\n",
            "4   16   64   256\n",
            "5   25   125   625\n",
            "6   36   216   1296\n",
            "7   49   343   2401\n",
            "8   64   512   4096\n",
            "9   81   729   6561\n",
            "10   100   1000   10000\n"
          ]
        }
      ]
    },
    {
      "cell_type": "code",
      "source": [
        "for i in range(3):\n",
        "  for j in range(4):\n",
        "    print(\"*\", end =\"\")\n",
        "  print()"
      ],
      "metadata": {
        "colab": {
          "base_uri": "https://localhost:8080/"
        },
        "id": "NZ62jTqPLL12",
        "outputId": "030c8ed2-f89d-4d01-8ac6-31d9a30414b0"
      },
      "execution_count": null,
      "outputs": [
        {
          "output_type": "stream",
          "name": "stdout",
          "text": [
            "****\n",
            "****\n",
            "****\n"
          ]
        }
      ]
    },
    {
      "cell_type": "code",
      "source": [
        "for i in range(4):\n",
        "  for j in range(i + 1):\n",
        "    print(\"*\", end =\"\")\n",
        "  print()"
      ],
      "metadata": {
        "colab": {
          "base_uri": "https://localhost:8080/"
        },
        "id": "RjaqZOc3L8Gj",
        "outputId": "b8101c3e-41f4-4388-994d-1399f3763674"
      },
      "execution_count": null,
      "outputs": [
        {
          "output_type": "stream",
          "name": "stdout",
          "text": [
            "*\n",
            "**\n",
            "***\n",
            "****\n"
          ]
        }
      ]
    },
    {
      "cell_type": "code",
      "source": [
        "for i in range(3):\n",
        "  for j in range(5):\n",
        "    if j % 2 ==1:\n",
        "      print(\"*\", end = \"\")\n",
        "    else:\n",
        "      print(\"-\",end = \"\")\n",
        "  print()"
      ],
      "metadata": {
        "colab": {
          "base_uri": "https://localhost:8080/"
        },
        "id": "614htZ4RMuFM",
        "outputId": "8e25c73b-7391-444a-b029-6191490a4400"
      },
      "execution_count": null,
      "outputs": [
        {
          "output_type": "stream",
          "name": "stdout",
          "text": [
            "-*-*-\n",
            "-*-*-\n",
            "-*-*-\n"
          ]
        }
      ]
    },
    {
      "cell_type": "code",
      "source": [
        "for i in range(3):\n",
        "  for j in range(5):\n",
        "    if i % 2 == j% 2 :\n",
        "      print(\"*\", end=\"\")\n",
        "    else:\n",
        "      print(\" \",end=\"\")\n",
        "  print()"
      ],
      "metadata": {
        "colab": {
          "base_uri": "https://localhost:8080/"
        },
        "id": "fSi-qVbBOCi6",
        "outputId": "5c61aadf-7ae2-4692-8258-40c7fd167082"
      },
      "execution_count": null,
      "outputs": [
        {
          "output_type": "stream",
          "name": "stdout",
          "text": [
            "* * *\n",
            " * * \n",
            "* * *\n"
          ]
        }
      ]
    },
    {
      "cell_type": "code",
      "source": [
        "#Outer loop runs 3 times\n",
        "#Inner loop runs 4 times\n",
        "\n",
        "\n",
        "for i in range(3):\n",
        "    for j in range(4):\n",
        "        print(\"[]\", end=\"\")\n",
        "    print()\n"
      ],
      "metadata": {
        "colab": {
          "base_uri": "https://localhost:8080/"
        },
        "id": "E9UVsdo0QI59",
        "outputId": "92a64a9e-9e3b-49fb-8f46-7da3d4ee40dd"
      },
      "execution_count": null,
      "outputs": [
        {
          "output_type": "stream",
          "name": "stdout",
          "text": [
            "[][][][]\n",
            "[][][][]\n",
            "[][][][]\n"
          ]
        }
      ]
    },
    {
      "cell_type": "code",
      "source": [
        "for i in range(5):\n",
        "  for j in range()"
      ],
      "metadata": {
        "id": "ThP-abKYSx3k"
      },
      "execution_count": null,
      "outputs": []
    },
    {
      "cell_type": "code",
      "source": [
        "students = [[90, 85, 88], [75, 80, 70], [100, 95, 98]]\n",
        "\n",
        "for i in range(len(students)):\n",
        "    grades = students[i]\n",
        "    average = sum(grades) / len(grades)\n",
        "    print(\"Student\", i + 1, \"average grade:\", average)\n"
      ],
      "metadata": {
        "colab": {
          "base_uri": "https://localhost:8080/"
        },
        "id": "-SUBaGZjT68j",
        "outputId": "6755ef6c-d4c6-432b-88d0-3ac4456d1f06"
      },
      "execution_count": null,
      "outputs": [
        {
          "output_type": "stream",
          "name": "stdout",
          "text": [
            "Student 1 average grade: 87.66666666666667\n",
            "Student 2 average grade: 75.0\n",
            "Student 3 average grade: 97.66666666666667\n"
          ]
        }
      ]
    },
    {
      "cell_type": "code",
      "source": [
        "def rectangleVolume(sideLength,sideWidth ):\n",
        "  Volume = sideLength * sideWidth\n",
        "  return Volume\n",
        "\n",
        "res1 = rectangleVolume(2,4)\n",
        "res2= rectangleVolume(5,6)\n",
        "\n",
        "print(\"A rectangle with length 2 and width 4 has volume \", res1)\n",
        "print(\"A rectangle with length 5 and width 6 has volume \", res2)\n",
        "\n"
      ],
      "metadata": {
        "colab": {
          "base_uri": "https://localhost:8080/"
        },
        "id": "l6UHCFtUoz_C",
        "outputId": "9734be32-b957-472d-a705-f25760940403"
      },
      "execution_count": null,
      "outputs": [
        {
          "output_type": "stream",
          "name": "stdout",
          "text": [
            "A rectangle with length 2 and width 4 has volume  8\n",
            "A rectangle with length 5 and width 6 has volume  30\n"
          ]
        }
      ]
    },
    {
      "cell_type": "code",
      "source": [
        "def main():\n",
        "  sum = 0\n",
        "  for i in range(11):\n",
        "    square = i * i\n",
        "    sum = sum + square\n",
        "  print(square, sum)\n",
        "\n",
        "main()"
      ],
      "metadata": {
        "colab": {
          "base_uri": "https://localhost:8080/"
        },
        "id": "cl6aYiMxtZgX",
        "outputId": "8707bd33-a284-4c89-8cf5-7883e5607ea9"
      },
      "execution_count": null,
      "outputs": [
        {
          "output_type": "stream",
          "name": "stdout",
          "text": [
            "100 385\n"
          ]
        }
      ]
    },
    {
      "cell_type": "code",
      "source": [
        "balance = 10000\n",
        "def withdraw(amount) :\n",
        "  global balance\n",
        "  if balance >= amount :\n",
        "    balance = balance - amount\n",
        "\n",
        "def deposite(amount):\n",
        "  global balance\n",
        "  balance = balance + amount\n",
        "\n",
        "withdraw(350)\n",
        "#deposite(100)\n",
        "print(\"Balance after withdraw = \",balance)\n",
        "#print(\"Balance after deposite = \",balance)"
      ],
      "metadata": {
        "colab": {
          "base_uri": "https://localhost:8080/"
        },
        "id": "ZYNqQWuXvZyC",
        "outputId": "64ec07a0-e178-4438-912d-21a69162788f"
      },
      "execution_count": null,
      "outputs": [
        {
          "output_type": "stream",
          "name": "stdout",
          "text": [
            "Balance after withdraw =  9650\n"
          ]
        }
      ]
    },
    {
      "cell_type": "code",
      "source": [
        "def greet(name) :\n",
        "  print(f\"Hello, {name} ! Welcome to Python.\")\n",
        "greet(\"Iman\")"
      ],
      "metadata": {
        "colab": {
          "base_uri": "https://localhost:8080/"
        },
        "id": "yw5hYVohygvg",
        "outputId": "8b2609d1-829b-4220-83c3-4d996ba06864"
      },
      "execution_count": null,
      "outputs": [
        {
          "output_type": "stream",
          "name": "stdout",
          "text": [
            "Hello, Iman ! Welcome to Python.\n"
          ]
        }
      ]
    },
    {
      "cell_type": "code",
      "source": [
        "def add(num1,num2):\n",
        "  return num1 + num2\n",
        "\n",
        "print(\"Addition : \",add(1,2))\n",
        "print(\"Addition : \",add(5,5))"
      ],
      "metadata": {
        "colab": {
          "base_uri": "https://localhost:8080/"
        },
        "id": "I8qopMY40ztd",
        "outputId": "62de32f3-6019-4a4a-dbf5-6eb63c5b34fe"
      },
      "execution_count": null,
      "outputs": [
        {
          "output_type": "stream",
          "name": "stdout",
          "text": [
            "Addition :  3\n",
            "Addition :  10\n"
          ]
        }
      ]
    },
    {
      "cell_type": "code",
      "source": [
        "def celsius_to_fahrenheit(celsius):\n",
        "    return (celsius * 9/5) + 32\n",
        "\n",
        "print(\"Fahrenheit is:\", celsius_to_fahrenheit(25))\n",
        "print(\"Fahrenheit is:\", celsius_to_fahrenheit(40))"
      ],
      "metadata": {
        "colab": {
          "base_uri": "https://localhost:8080/"
        },
        "id": "DycsVFAa1SMD",
        "outputId": "0e50c431-cc34-4297-9d32-bbbb75d8efdd"
      },
      "execution_count": null,
      "outputs": [
        {
          "output_type": "stream",
          "name": "stdout",
          "text": [
            "Fahrenheit is: 77.0\n",
            "Fahrenheit is: 104.0\n"
          ]
        }
      ]
    },
    {
      "cell_type": "code",
      "source": [
        "def square(num):\n",
        "  return num **2\n",
        "\n",
        "print(\"Square of the number : \",square(3))\n",
        "print(\"Square of the number : \",square(8))"
      ],
      "metadata": {
        "colab": {
          "base_uri": "https://localhost:8080/"
        },
        "id": "fjNIqSiq1vT_",
        "outputId": "acfe00d8-de8b-4819-d2fd-34d497301082"
      },
      "execution_count": null,
      "outputs": [
        {
          "output_type": "stream",
          "name": "stdout",
          "text": [
            "Square of the number :  9\n",
            "Square of the number :  64\n"
          ]
        }
      ]
    },
    {
      "cell_type": "code",
      "source": [
        "def is_even(integer):\n",
        "  return integer % 2 == 0\n",
        "\n",
        "print(\"Is even ? \", is_even(4))\n",
        "print(\"Is even ? \", is_even(9))"
      ],
      "metadata": {
        "colab": {
          "base_uri": "https://localhost:8080/"
        },
        "id": "PqBMtehk2PUL",
        "outputId": "bbf9f29f-b668-45fb-fe08-609949dce82a"
      },
      "execution_count": null,
      "outputs": [
        {
          "output_type": "stream",
          "name": "stdout",
          "text": [
            "Is even ?  True\n",
            "Is even ?  False\n"
          ]
        }
      ]
    },
    {
      "cell_type": "code",
      "source": [
        "list1 = [1,2,3]\n",
        "list2 = [4,5,6]\n",
        "print(list1 + list2)"
      ],
      "metadata": {
        "colab": {
          "base_uri": "https://localhost:8080/"
        },
        "id": "2IP-1DHpPMb-",
        "outputId": "7836300a-26d1-4640-e488-361986bc6e14"
      },
      "execution_count": null,
      "outputs": [
        {
          "output_type": "stream",
          "name": "stdout",
          "text": [
            "[1, 2, 3, 4, 5, 6]\n"
          ]
        }
      ]
    },
    {
      "cell_type": "code",
      "source": [
        "list1.append(10)\n",
        "print(list1)"
      ],
      "metadata": {
        "colab": {
          "base_uri": "https://localhost:8080/"
        },
        "id": "jQplsrrRPb6k",
        "outputId": "b5fa0c0d-1e99-4039-b4dc-23999be31a94"
      },
      "execution_count": null,
      "outputs": [
        {
          "output_type": "stream",
          "name": "stdout",
          "text": [
            "[1, 2, 3, 10]\n"
          ]
        }
      ]
    },
    {
      "cell_type": "code",
      "source": [
        "sum([1, 4, 9, 16])"
      ],
      "metadata": {
        "colab": {
          "base_uri": "https://localhost:8080/"
        },
        "id": "EhALeF9SVq3v",
        "outputId": "d5d28d8f-dbfd-4030-ac7e-811c78ba9804"
      },
      "execution_count": null,
      "outputs": [
        {
          "output_type": "execute_result",
          "data": {
            "text/plain": [
              "30"
            ]
          },
          "metadata": {},
          "execution_count": 6
        }
      ]
    },
    {
      "cell_type": "code",
      "source": [
        "max([1, 16, 9, 4])"
      ],
      "metadata": {
        "colab": {
          "base_uri": "https://localhost:8080/"
        },
        "id": "WfM9yz_uVtMH",
        "outputId": "a524ebbc-3bb8-4054-e76a-912afce4b014"
      },
      "execution_count": null,
      "outputs": [
        {
          "output_type": "execute_result",
          "data": {
            "text/plain": [
              "16"
            ]
          },
          "metadata": {},
          "execution_count": 7
        }
      ]
    },
    {
      "cell_type": "code",
      "source": [
        "min(\"Fred\", \"Ann\", \"Sue\")"
      ],
      "metadata": {
        "colab": {
          "base_uri": "https://localhost:8080/",
          "height": 35
        },
        "id": "zyDfBV7FVcG-",
        "outputId": "669d9919-e30a-47e5-da42-d910f8249b2e"
      },
      "execution_count": null,
      "outputs": [
        {
          "output_type": "execute_result",
          "data": {
            "text/plain": [
              "'Ann'"
            ],
            "application/vnd.google.colaboratory.intrinsic+json": {
              "type": "string"
            }
          },
          "metadata": {},
          "execution_count": 5
        }
      ]
    },
    {
      "cell_type": "code",
      "source": [
        "values = [1, 16, 9, 4]\n",
        "values.sort()\n",
        "print(values)"
      ],
      "metadata": {
        "colab": {
          "base_uri": "https://localhost:8080/"
        },
        "id": "xUgQqYDYV2lH",
        "outputId": "28ba61d3-a9ea-48af-de33-df3cc8135ce9"
      },
      "execution_count": null,
      "outputs": [
        {
          "output_type": "stream",
          "name": "stdout",
          "text": [
            "[1, 4, 9, 16]\n"
          ]
        }
      ]
    },
    {
      "cell_type": "code",
      "source": [
        "value = [32,54,67.5,29,35,47.5]\n",
        "price = value\n",
        "value.remove(32)\n",
        "print(value)\n",
        "print(price)"
      ],
      "metadata": {
        "colab": {
          "base_uri": "https://localhost:8080/"
        },
        "id": "IpCoHRkVaPdL",
        "outputId": "7ec0ec54-f91e-468f-9fee-57e43d526701"
      },
      "execution_count": null,
      "outputs": [
        {
          "output_type": "stream",
          "name": "stdout",
          "text": [
            "[54, 67.5, 29, 35, 47.5]\n",
            "[54, 67.5, 29, 35, 47.5]\n"
          ]
        }
      ]
    },
    {
      "cell_type": "code",
      "source": [
        "price = list(value)\n",
        "value.remove(35)\n",
        "print(value)\n",
        "print(price)"
      ],
      "metadata": {
        "colab": {
          "base_uri": "https://localhost:8080/"
        },
        "id": "BRAw1YYdap7H",
        "outputId": "65c3e9a9-0576-4971-9718-8b64179070fb"
      },
      "execution_count": null,
      "outputs": [
        {
          "output_type": "stream",
          "name": "stdout",
          "text": [
            "[54, 67.5, 29, 47.5]\n",
            "[54, 67.5, 29, 35, 47.5]\n"
          ]
        }
      ]
    },
    {
      "cell_type": "code",
      "source": [
        "temperatures = [18, 21, 24, 33, 39, 40, 39, 36, 30, 22, 18]\n",
        "thirdQuarter = temperatures[6 : 9]\n",
        "print(thirdQuarter)"
      ],
      "metadata": {
        "colab": {
          "base_uri": "https://localhost:8080/"
        },
        "id": "x-987dlmdk3U",
        "outputId": "818558a8-5e6a-4987-b632-e230e1d1fa8f"
      },
      "execution_count": null,
      "outputs": [
        {
          "output_type": "stream",
          "name": "stdout",
          "text": [
            "[39, 36, 30]\n"
          ]
        }
      ]
    },
    {
      "cell_type": "code",
      "source": [
        "temp = temperatures[ : 6]  #Includes all elements up to, but not including, position 6\n",
        "print(temp)"
      ],
      "metadata": {
        "colab": {
          "base_uri": "https://localhost:8080/"
        },
        "id": "VKYkPS82d0yS",
        "outputId": "08f6593e-7149-4eb2-c63a-002da2f33b8f"
      },
      "execution_count": null,
      "outputs": [
        {
          "output_type": "stream",
          "name": "stdout",
          "text": [
            "[18, 21, 24, 33, 39, 40]\n"
          ]
        }
      ]
    },
    {
      "cell_type": "code",
      "source": [
        "tem = temperatures[6 : ]  #Includes all elements starting at position 6 to the end of the list\n",
        "print(tem)"
      ],
      "metadata": {
        "colab": {
          "base_uri": "https://localhost:8080/"
        },
        "id": "o4atlBHXeNTk",
        "outputId": "0516bff7-e39f-47db-c997-e85c16ff1e28"
      },
      "execution_count": null,
      "outputs": [
        {
          "output_type": "stream",
          "name": "stdout",
          "text": [
            "[39, 36, 30, 22, 18]\n"
          ]
        }
      ]
    },
    {
      "cell_type": "code",
      "source": [
        "#You can assign values to a slice\n",
        "tm = temperatures[6 : 9] = [45, 44, 40]\n",
        "print(tm)\n",
        "print(temperatures)"
      ],
      "metadata": {
        "colab": {
          "base_uri": "https://localhost:8080/"
        },
        "id": "DhiuSITmeD2p",
        "outputId": "1cb81c6b-4b28-4eba-ba58-6ee3965d040c"
      },
      "execution_count": null,
      "outputs": [
        {
          "output_type": "stream",
          "name": "stdout",
          "text": [
            "[45, 44, 40]\n",
            "[18, 21, 24, 33, 39, 40, 45, 44, 40, 22, 18]\n"
          ]
        }
      ]
    },
    {
      "cell_type": "code",
      "source": [
        "name = ['Ali', 'Ahmed', 'Adam', 'Asama']\n",
        "name[:3] = ['Amal', 'Alaa', 'Arwa']\n",
        "print(name)"
      ],
      "metadata": {
        "colab": {
          "base_uri": "https://localhost:8080/"
        },
        "id": "K5qusCKHe5tq",
        "outputId": "e3bc4a15-37e5-4bbf-dffb-6fa353568a4f"
      },
      "execution_count": null,
      "outputs": [
        {
          "output_type": "stream",
          "name": "stdout",
          "text": [
            "['Amal', 'Alaa', 'Arwa', 'Asama']\n"
          ]
        }
      ]
    },
    {
      "cell_type": "code",
      "source": [
        "values = []\n",
        "for i in range(6):\n",
        "  values.append(i * 2)\n",
        "print(values)"
      ],
      "metadata": {
        "colab": {
          "base_uri": "https://localhost:8080/"
        },
        "id": "FrMu4Bf-fpH6",
        "outputId": "6f51cf3a-c03c-4654-ece5-4931ccbf996a"
      },
      "execution_count": null,
      "outputs": [
        {
          "output_type": "stream",
          "name": "stdout",
          "text": [
            "[0, 2, 4, 6, 8, 10]\n"
          ]
        }
      ]
    },
    {
      "cell_type": "code",
      "source": [
        "result = 0.0\n",
        "for element in values :\n",
        "  result = result + element\n",
        "print(result)"
      ],
      "metadata": {
        "colab": {
          "base_uri": "https://localhost:8080/"
        },
        "id": "fPR3mUceg2j1",
        "outputId": "cceed9f2-c80a-40e3-d6e2-3876de42afc8"
      },
      "execution_count": null,
      "outputs": [
        {
          "output_type": "stream",
          "name": "stdout",
          "text": [
            "30.0\n"
          ]
        }
      ]
    },
    {
      "cell_type": "code",
      "source": [
        "names = ['Ali','Ahmed','Adam','Asama']\n",
        "\n",
        "result = \"\"\n",
        "for element in names:\n",
        "  result = result + element\n",
        "print(result)"
      ],
      "metadata": {
        "colab": {
          "base_uri": "https://localhost:8080/"
        },
        "id": "wcCZAinIhAg9",
        "outputId": "8b44b820-5b0a-4b94-8f84-da01442b60d7"
      },
      "execution_count": null,
      "outputs": [
        {
          "output_type": "stream",
          "name": "stdout",
          "text": [
            "AliAhmedAdamAsama\n"
          ]
        }
      ]
    },
    {
      "cell_type": "code",
      "source": [
        "values = [0, 2, 4, 6, 8, 10]\n",
        "limit = 0\n",
        "pos = 0\n",
        "found = False\n",
        "while pos < len(values) and not found :\n",
        "  if values[pos] > limit :\n",
        "    found = True\n",
        "  else :\n",
        "    pos = pos + 1\n",
        "if found :\n",
        "  print(\"Found at position : \", pos)\n",
        "else :\n",
        "  print(\"Not found\")"
      ],
      "metadata": {
        "colab": {
          "base_uri": "https://localhost:8080/"
        },
        "id": "aV5o01K-v2f8",
        "outputId": "ea397b51-d2ac-4c7a-8952-e28f6a02feb2"
      },
      "execution_count": null,
      "outputs": [
        {
          "output_type": "stream",
          "name": "stdout",
          "text": [
            "Found at position :  1\n"
          ]
        }
      ]
    },
    {
      "cell_type": "code",
      "source": [
        "values = [0, 2, 4, 6, 8, 10]\n",
        "limit = 0\n",
        "found = False\n",
        "\n",
        "for pos in range(len(values)):\n",
        "    if values[pos] > limit:\n",
        "        found = True\n",
        "        break\n",
        "\n",
        "if found:\n",
        "    print(\"Found at position :\", pos)\n",
        "else:\n",
        "    print(\"Not found\")\n"
      ],
      "metadata": {
        "colab": {
          "base_uri": "https://localhost:8080/"
        },
        "id": "DXroQUJMw8Vs",
        "outputId": "0913794a-9060-469e-cdb1-31581bf25e64"
      },
      "execution_count": null,
      "outputs": [
        {
          "output_type": "stream",
          "name": "stdout",
          "text": [
            "Found at position : 1\n"
          ]
        }
      ]
    },
    {
      "cell_type": "code",
      "source": [
        "values = [0, 2, 4, 6, 8, 10]\n",
        "limit = 0\n",
        "positions = []\n",
        "\n",
        "for pos in range(len(values)):\n",
        "    if values[pos] > limit:\n",
        "        positions.append(pos)\n",
        "\n",
        "if positions:\n",
        "    print(\"Found at positions:\", positions)\n",
        "else:\n",
        "    print(\"Not found\")\n"
      ],
      "metadata": {
        "colab": {
          "base_uri": "https://localhost:8080/"
        },
        "id": "34D4YWcmxTjH",
        "outputId": "54dfc3ca-e2ce-47ef-b54c-c4932b7228e7"
      },
      "execution_count": null,
      "outputs": [
        {
          "output_type": "stream",
          "name": "stdout",
          "text": [
            "Found at positions: [1, 2, 3, 4, 5]\n"
          ]
        }
      ]
    },
    {
      "cell_type": "code",
      "source": [
        "countries = 3\n",
        "meadls = 3\n",
        "\n",
        "counts = [\n",
        "    [1 , 2 , 3],\n",
        "    [4 , 5 , 6],\n",
        "    [7 , 8 , 9],\n",
        "]\n",
        "print(counts[1][2])"
      ],
      "metadata": {
        "colab": {
          "base_uri": "https://localhost:8080/"
        },
        "id": "yTggTj_yztJY",
        "outputId": "6f10efa7-cc45-4a64-e175-6ddbf0332b66"
      },
      "execution_count": null,
      "outputs": [
        {
          "output_type": "stream",
          "name": "stdout",
          "text": [
            "6\n"
          ]
        }
      ]
    },
    {
      "cell_type": "code",
      "source": [
        "contacts = {\"Iman \": 9834,\n",
        "            \"Ibreez\": 7384,\n",
        "            \"Zamzam\": 8374}\n",
        "print(contacts)"
      ],
      "metadata": {
        "colab": {
          "base_uri": "https://localhost:8080/"
        },
        "id": "gprdK-tk5H7j",
        "outputId": "eeeed56f-0d51-4589-8d3b-c0b9ad5dbdc1"
      },
      "execution_count": null,
      "outputs": [
        {
          "output_type": "stream",
          "name": "stdout",
          "text": [
            "{'Iman ': 9834, 'Ibreez': 7384, 'Zamzam': 8374}\n"
          ]
        }
      ]
    },
    {
      "cell_type": "code",
      "source": [
        "numbers = contacts.get(\"Iman\", 9834)\n",
        "print(\"Dial \"+ str(numbers))"
      ],
      "metadata": {
        "colab": {
          "base_uri": "https://localhost:8080/"
        },
        "id": "SiDRRSU_8ZPX",
        "outputId": "06df3d69-82d2-40d6-bca3-0fbb1497eef2"
      },
      "execution_count": null,
      "outputs": [
        {
          "output_type": "stream",
          "name": "stdout",
          "text": [
            "Dial 9834\n"
          ]
        }
      ]
    },
    {
      "cell_type": "code",
      "source": [
        "contacts['Ibreez'] = 1111\n",
        "print(contacts)"
      ],
      "metadata": {
        "colab": {
          "base_uri": "https://localhost:8080/"
        },
        "id": "dGdU_Glf819N",
        "outputId": "1df0967c-ddc4-4430-9c3d-6a42462db445"
      },
      "execution_count": null,
      "outputs": [
        {
          "output_type": "stream",
          "name": "stdout",
          "text": [
            "{'Iman ': 9834, 'Ibreez': 1111, 'Zamzam': 8374}\n"
          ]
        }
      ]
    },
    {
      "cell_type": "code",
      "source": [
        "colors = {}\n",
        "\n",
        "colors[\"a\"] = \"Blue\"\n",
        "colors[\"b\"] = \"Red\"\n",
        "colors[\"c\"] = \"Pink\"\n",
        "\n",
        "print(colors)"
      ],
      "metadata": {
        "colab": {
          "base_uri": "https://localhost:8080/"
        },
        "id": "VFVLK-k2993p",
        "outputId": "341c7358-9222-43b6-81d8-423048f91da8"
      },
      "execution_count": null,
      "outputs": [
        {
          "output_type": "stream",
          "name": "stdout",
          "text": [
            "{'a': 'Blue', 'b': 'Red', 'c': 'Pink'}\n"
          ]
        }
      ]
    },
    {
      "cell_type": "code",
      "source": [],
      "metadata": {
        "id": "qO75sd3eBxKO"
      },
      "execution_count": null,
      "outputs": []
    }
  ]
}