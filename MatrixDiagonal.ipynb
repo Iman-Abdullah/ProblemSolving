{
  "nbformat": 4,
  "nbformat_minor": 0,
  "metadata": {
    "colab": {
      "provenance": []
    },
    "kernelspec": {
      "name": "python3",
      "display_name": "Python 3"
    },
    "language_info": {
      "name": "python"
    }
  },
  "cells": [
    {
      "cell_type": "code",
      "execution_count": 5,
      "metadata": {
        "colab": {
          "base_uri": "https://localhost:8080/"
        },
        "id": "aiQD91Gx3XoJ",
        "outputId": "a700550a-cda7-4659-b1cf-971ab1046103"
      },
      "outputs": [
        {
          "output_type": "stream",
          "name": "stdout",
          "text": [
            "Absolute difference:  2\n",
            "Absolute difference:  15\n"
          ]
        }
      ],
      "source": [
        "def difference(matrix):\n",
        "    first = 0\n",
        "    second = 0\n",
        "\n",
        "    for i in range(len(matrix)):\n",
        "        first += matrix[i][i]\n",
        "        second += matrix[i][-i - 1]\n",
        "\n",
        "    return abs(first - second)\n",
        "\n",
        "matrix1 = [\n",
        "    [1, 2, 3],\n",
        "    [4, 5, 6],\n",
        "    [9, 8, 9]\n",
        "]\n",
        "\n",
        "matrix2 = [\n",
        "    [11, 2, 4],\n",
        "    [4, 5, 6],\n",
        "    [10, 8, -12]\n",
        "]\n",
        "\n",
        "print(\"Absolute difference: \" ,difference(matrix1))\n",
        "print(\"Absolute difference: \" ,difference(matrix2))"
      ]
    }
  ]
}