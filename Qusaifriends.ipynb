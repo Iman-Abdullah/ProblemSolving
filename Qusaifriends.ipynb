{
  "nbformat": 4,
  "nbformat_minor": 0,
  "metadata": {
    "colab": {
      "provenance": []
    },
    "kernelspec": {
      "name": "python3",
      "display_name": "Python 3"
    },
    "language_info": {
      "name": "python"
    }
  },
  "cells": [
    {
      "cell_type": "code",
      "execution_count": 2,
      "metadata": {
        "colab": {
          "base_uri": "https://localhost:8080/"
        },
        "id": "4XlqanLWkCcx",
        "outputId": "d0a1441e-a24d-4d7e-8871-b95fc16f3d1d"
      },
      "outputs": [
        {
          "output_type": "stream",
          "name": "stdout",
          "text": [
            "YES\n",
            "NO\n"
          ]
        }
      ],
      "source": [
        "def qusaifriends(n, x, y, friends):\n",
        "    path = [0] * (y - x + 1)\n",
        "\n",
        "    for a, b in friends:\n",
        "        start = max(a, x)\n",
        "        end = min(b, y)\n",
        "        for i in range(start, end + 1):\n",
        "            path[i - x] = 1\n",
        "\n",
        "    return \"YES\" if all(path) else \"NO\"\n",
        "\n",
        "\n",
        "# Input 1\n",
        "n1 = 3\n",
        "x1, y1 = 1, 20\n",
        "friends1 = [(1, 5), (4, 15), (10, 20)]\n",
        "print(qusaifriends(n1, x1, y1, friends1))\n",
        "\n",
        "# Input 2\n",
        "n2 = 3\n",
        "x2, y2 = 5, 12\n",
        "friends2 = [(8, 10), (10, 12), (7, 8)]\n",
        "print(qusaifriends(n2, x2, y2, friends2))\n"
      ]
    }
  ]
}