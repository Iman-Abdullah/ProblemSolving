{
  "nbformat": 4,
  "nbformat_minor": 0,
  "metadata": {
    "colab": {
      "provenance": []
    },
    "kernelspec": {
      "name": "python3",
      "display_name": "Python 3"
    },
    "language_info": {
      "name": "python"
    }
  },
  "cells": [
    {
      "cell_type": "code",
      "execution_count": null,
      "metadata": {
        "id": "rXFVlbHt8DLn",
        "colab": {
          "base_uri": "https://localhost:8080/",
          "height": 384
        },
        "outputId": "49757e3c-aeb6-4a5c-dc7e-d4b51c27c253"
      },
      "outputs": [
        {
          "output_type": "stream",
          "name": "stdout",
          "text": [
            "student added or updated successfully\n",
            "student added or updated successfully\n",
            "student added or updated successfully\n",
            "Students\n"
          ]
        },
        {
          "output_type": "error",
          "ename": "NameError",
          "evalue": "name 'name' is not defined",
          "traceback": [
            "\u001b[0;31m---------------------------------------------------------------------------\u001b[0m",
            "\u001b[0;31mNameError\u001b[0m                                 Traceback (most recent call last)",
            "\u001b[0;32m<ipython-input-9-217c4335e5e9>\u001b[0m in \u001b[0;36m<cell line: 0>\u001b[0;34m()\u001b[0m\n\u001b[1;32m     25\u001b[0m \u001b[0madd_student\u001b[0m\u001b[0;34m(\u001b[0m\u001b[0mstudent_directory\u001b[0m\u001b[0;34m,\u001b[0m \u001b[0;34m\"103\"\u001b[0m\u001b[0;34m,\u001b[0m \u001b[0;34m\"Ahmed\"\u001b[0m\u001b[0;34m,\u001b[0m \u001b[0;36m19\u001b[0m\u001b[0;34m)\u001b[0m\u001b[0;34m\u001b[0m\u001b[0;34m\u001b[0m\u001b[0m\n\u001b[1;32m     26\u001b[0m \u001b[0mremove_student\u001b[0m\u001b[0;34m(\u001b[0m\u001b[0mstudent_directory\u001b[0m\u001b[0;34m,\u001b[0m \u001b[0;34m\"102\"\u001b[0m\u001b[0;34m)\u001b[0m\u001b[0;34m\u001b[0m\u001b[0;34m\u001b[0m\u001b[0m\n\u001b[0;32m---> 27\u001b[0;31m \u001b[0mdisplay_students\u001b[0m\u001b[0;34m(\u001b[0m\u001b[0mstudent_directory\u001b[0m\u001b[0;34m)\u001b[0m\u001b[0;34m\u001b[0m\u001b[0;34m\u001b[0m\u001b[0m\n\u001b[0m\u001b[1;32m     28\u001b[0m \u001b[0;34m\u001b[0m\u001b[0m\n",
            "\u001b[0;32m<ipython-input-9-217c4335e5e9>\u001b[0m in \u001b[0;36mdisplay_students\u001b[0;34m(directory)\u001b[0m\n\u001b[1;32m     19\u001b[0m         \u001b[0mprint\u001b[0m\u001b[0;34m(\u001b[0m\u001b[0;34m\"Students\"\u001b[0m\u001b[0;34m)\u001b[0m\u001b[0;34m\u001b[0m\u001b[0;34m\u001b[0m\u001b[0m\n\u001b[1;32m     20\u001b[0m         \u001b[0;32mfor\u001b[0m \u001b[0mstudent_id\u001b[0m\u001b[0;34m,\u001b[0m \u001b[0mi\u001b[0m \u001b[0;32min\u001b[0m \u001b[0mdirectory\u001b[0m\u001b[0;34m.\u001b[0m\u001b[0mitems\u001b[0m\u001b[0;34m(\u001b[0m\u001b[0;34m)\u001b[0m\u001b[0;34m:\u001b[0m\u001b[0;34m\u001b[0m\u001b[0;34m\u001b[0m\u001b[0m\n\u001b[0;32m---> 21\u001b[0;31m           \u001b[0mprint\u001b[0m\u001b[0;34m(\u001b[0m\u001b[0;34mf\"ID: {student_id}, Name: {i[name]}, Age: {i[age]}\"\u001b[0m\u001b[0;34m)\u001b[0m\u001b[0;34m\u001b[0m\u001b[0;34m\u001b[0m\u001b[0m\n\u001b[0m\u001b[1;32m     22\u001b[0m \u001b[0;34m\u001b[0m\u001b[0m\n\u001b[1;32m     23\u001b[0m \u001b[0madd_student\u001b[0m\u001b[0;34m(\u001b[0m\u001b[0mstudent_directory\u001b[0m\u001b[0;34m,\u001b[0m \u001b[0;34m\"101\"\u001b[0m\u001b[0;34m,\u001b[0m \u001b[0;34m\"Ali\"\u001b[0m\u001b[0;34m,\u001b[0m \u001b[0;36m20\u001b[0m\u001b[0;34m)\u001b[0m\u001b[0;34m\u001b[0m\u001b[0;34m\u001b[0m\u001b[0m\n",
            "\u001b[0;31mNameError\u001b[0m: name 'name' is not defined"
          ]
        }
      ],
      "source": [
        "student_directory = {}\n",
        "\n",
        "\n",
        "def add_student(directory, student_id, name, age):\n",
        "  directory[student_id] = {\"Name\": name, \"Age\": age}\n",
        "  print(\"student added or updated successfully\")\n",
        "\n",
        "def remove_student(directory, student_id):\n",
        "    if student_id in directory:\n",
        "        remove = directory.pop(student_id)\n",
        "\n",
        "    else:\n",
        "        print(\"student id not found\")\n",
        "\n",
        "def display_students(directory):\n",
        "    if not directory:\n",
        "        print(\"No students available\")\n",
        "    else:\n",
        "        print(\"Students\")\n",
        "        for student_id, i in directory.items():\n",
        "          print(f\"ID: {student_id}, Name: {i[name]}, Age: {i[age]}\")\n",
        "\n",
        "add_student(student_directory, \"101\", \"Ali\", 20)\n",
        "add_student(student_directory, \"102\", \"Sara\", 22)\n",
        "add_student(student_directory, \"103\", \"Ahmed\", 19)\n",
        "remove_student(student_directory, \"102\")\n",
        "display_students(student_directory)\n",
        "\n"
      ]
    },
    {
      "cell_type": "code",
      "source": [],
      "metadata": {
        "id": "DAqbk3x8-XeH"
      },
      "execution_count": null,
      "outputs": []
    },
    {
      "cell_type": "code",
      "source": [],
      "metadata": {
        "id": "LkQ7AjFR9KiS"
      },
      "execution_count": null,
      "outputs": []
    }
  ]
}