{
  "nbformat": 4,
  "nbformat_minor": 0,
  "metadata": {
    "colab": {
      "provenance": []
    },
    "kernelspec": {
      "name": "python3",
      "display_name": "Python 3"
    },
    "language_info": {
      "name": "python"
    }
  },
  "cells": [
    {
      "cell_type": "code",
      "execution_count": null,
      "metadata": {
        "colab": {
          "base_uri": "https://localhost:8080/"
        },
        "id": "jPzhry-Mz2e2",
        "outputId": "4dd4b901-112c-4430-cfc6-9903ae6f086b"
      },
      "outputs": [
        {
          "output_type": "stream",
          "name": "stdout",
          "text": [
            "Hello my name is Iman. I am 24 years old and my height is 158.5 meters.\n"
          ]
        }
      ],
      "source": [
        "#Problem 1: Hello, Variables!\n",
        "\n",
        "name = \"Iman\"\n",
        "age = 24\n",
        "height = 158.5\n",
        "print(f\"Hello my name is {name}. I am {age} years old and my height is {height} meters.\")"
      ]
    },
    {
      "cell_type": "code",
      "source": [
        "#Problem 2: Basic Arithmetic\n",
        "\n",
        "num1= int(input(\"Enter first number\"))\n",
        "num2= int(input(\"Enter second number\"))\n",
        "add = num1 + num2\n",
        "subtract = num1 - num2\n",
        "multiply = num1 * num2\n",
        "divide = num1 / num2\n",
        "print(f\"Addition: {add}\")\n",
        "print(f\"Subtraction: {subtract}\")\n",
        "print(f\"Multiplication: {multiply}\")\n",
        "print(f\"Division: {divide}\")"
      ],
      "metadata": {
        "colab": {
          "base_uri": "https://localhost:8080/"
        },
        "id": "aNQ66zaP00I9",
        "outputId": "33658ba6-3597-4272-9491-c6545470e923"
      },
      "execution_count": null,
      "outputs": [
        {
          "output_type": "stream",
          "name": "stdout",
          "text": [
            "Enter first number5\n",
            "Enter second number5\n",
            "Addition: 10\n",
            "Subtraction: 0\n",
            "Multiplication: 25\n",
            "Division: 1.0\n"
          ]
        }
      ]
    },
    {
      "cell_type": "code",
      "source": [
        "#Problem 3: Data Type Check\n",
        "\n",
        "a = 10\n",
        "b = 2.65\n",
        "c= \"Hello World!\"\n",
        "print(\"The type of variable a is\", type(a))\n",
        "print(\"The type of variable b is\", type(b))\n",
        "print(\"The type of variable c is\", type(c))"
      ],
      "metadata": {
        "colab": {
          "base_uri": "https://localhost:8080/"
        },
        "id": "yvsEys-V4pz7",
        "outputId": "1b16f108-822a-46c0-cac7-810b81c14fc7"
      },
      "execution_count": null,
      "outputs": [
        {
          "output_type": "stream",
          "name": "stdout",
          "text": [
            "The type of variable a is <class 'int'>\n",
            "The type of variable b is <class 'float'>\n",
            "The type of variable c is <class 'str'>\n"
          ]
        }
      ]
    },
    {
      "cell_type": "code",
      "source": [
        "#Problem 4: Area of a Rectangle\n",
        "\n",
        "length= 10\n",
        "width= 5\n",
        "area = length * width\n",
        "print(f\"Length: {length}\")\n",
        "print(f\"Width: {width}\")\n",
        "print(f\"The area of the rectangle is {area}\")"
      ],
      "metadata": {
        "colab": {
          "base_uri": "https://localhost:8080/"
        },
        "id": "T7IIyv4o6L6-",
        "outputId": "ccb78f08-279b-40f7-ecb7-ee853f646317"
      },
      "execution_count": null,
      "outputs": [
        {
          "output_type": "stream",
          "name": "stdout",
          "text": [
            "Length: 10\n",
            "Width: 5\n",
            "The area of the rectangle is 50\n"
          ]
        }
      ]
    },
    {
      "cell_type": "code",
      "source": [
        "#Problem 5: Simple Interest Calculation\n",
        "\n",
        "P = int(input(\"Enter Principal amount:\"))\n",
        "R = int(input(\"Enter Rate of Interest:\"))\n",
        "T = int(input(\"Enter Time (in years):\"))\n",
        "SimpleInterest = (P * R * T) / 100\n",
        "print(f\"The Simple Interest is {SimpleInterest}\")"
      ],
      "metadata": {
        "colab": {
          "base_uri": "https://localhost:8080/"
        },
        "id": "C0i1dLQ88GuQ",
        "outputId": "9ed5caee-3e27-4e0e-db15-324d66ee8fc5"
      },
      "execution_count": null,
      "outputs": [
        {
          "output_type": "stream",
          "name": "stdout",
          "text": [
            "Enter Principal amount:1000\n",
            "Enter Rate of Interest:5\n",
            "Enter Time (in years):2\n",
            "The Simple Interest is 100.0\n"
          ]
        }
      ]
    }
  ]
}