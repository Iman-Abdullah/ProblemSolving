{
  "nbformat": 4,
  "nbformat_minor": 0,
  "metadata": {
    "colab": {
      "provenance": []
    },
    "kernelspec": {
      "name": "python3",
      "display_name": "Python 3"
    },
    "language_info": {
      "name": "python"
    }
  },
  "cells": [
    {
      "cell_type": "markdown",
      "source": [
        "# Phase 1: Understanding the Dataset\n"
      ],
      "metadata": {
        "id": "nBZb9YDmRh8H"
      }
    },
    {
      "cell_type": "markdown",
      "source": [
        "# Data Preparation\n"
      ],
      "metadata": {
        "id": "LJmgoP9jRr0b"
      }
    },
    {
      "cell_type": "markdown",
      "source": [
        "o Load the dataset into a pandas DataFrame.\n",
        "\n",
        "o Display the first few rows to familiarize yourself with the structure\n",
        "and contents.\n"
      ],
      "metadata": {
        "id": "49DEDMLiRyTj"
      }
    },
    {
      "cell_type": "code",
      "execution_count": 21,
      "metadata": {
        "colab": {
          "base_uri": "https://localhost:8080/",
          "height": 206
        },
        "id": "Z9RwxC5tHrd3",
        "outputId": "37c70a9d-054b-482f-f6d8-8eb5977250fd"
      },
      "outputs": [
        {
          "output_type": "execute_result",
          "data": {
            "text/plain": [
              "   step      type    amount     nameOrig  oldbalanceOrg  newbalanceOrig  \\\n",
              "0     1   PAYMENT   9839.64  C1231006815       170136.0       160296.36   \n",
              "1     1   PAYMENT   1864.28  C1666544295        21249.0        19384.72   \n",
              "2     1  TRANSFER    181.00  C1305486145          181.0            0.00   \n",
              "3     1  CASH_OUT    181.00   C840083671          181.0            0.00   \n",
              "4     1   PAYMENT  11668.14  C2048537720        41554.0        29885.86   \n",
              "\n",
              "      nameDest  oldbalanceDest  newbalanceDest  isFraud  isFlaggedFraud  \n",
              "0  M1979787155             0.0             0.0        0               0  \n",
              "1  M2044282225             0.0             0.0        0               0  \n",
              "2   C553264065             0.0             0.0        1               0  \n",
              "3    C38997010         21182.0             0.0        1               0  \n",
              "4  M1230701703             0.0             0.0        0               0  "
            ],
            "text/html": [
              "\n",
              "  <div id=\"df-85b7d890-45df-4acb-8f66-c8ce1cceec4e\" class=\"colab-df-container\">\n",
              "    <div>\n",
              "<style scoped>\n",
              "    .dataframe tbody tr th:only-of-type {\n",
              "        vertical-align: middle;\n",
              "    }\n",
              "\n",
              "    .dataframe tbody tr th {\n",
              "        vertical-align: top;\n",
              "    }\n",
              "\n",
              "    .dataframe thead th {\n",
              "        text-align: right;\n",
              "    }\n",
              "</style>\n",
              "<table border=\"1\" class=\"dataframe\">\n",
              "  <thead>\n",
              "    <tr style=\"text-align: right;\">\n",
              "      <th></th>\n",
              "      <th>step</th>\n",
              "      <th>type</th>\n",
              "      <th>amount</th>\n",
              "      <th>nameOrig</th>\n",
              "      <th>oldbalanceOrg</th>\n",
              "      <th>newbalanceOrig</th>\n",
              "      <th>nameDest</th>\n",
              "      <th>oldbalanceDest</th>\n",
              "      <th>newbalanceDest</th>\n",
              "      <th>isFraud</th>\n",
              "      <th>isFlaggedFraud</th>\n",
              "    </tr>\n",
              "  </thead>\n",
              "  <tbody>\n",
              "    <tr>\n",
              "      <th>0</th>\n",
              "      <td>1</td>\n",
              "      <td>PAYMENT</td>\n",
              "      <td>9839.64</td>\n",
              "      <td>C1231006815</td>\n",
              "      <td>170136.0</td>\n",
              "      <td>160296.36</td>\n",
              "      <td>M1979787155</td>\n",
              "      <td>0.0</td>\n",
              "      <td>0.0</td>\n",
              "      <td>0</td>\n",
              "      <td>0</td>\n",
              "    </tr>\n",
              "    <tr>\n",
              "      <th>1</th>\n",
              "      <td>1</td>\n",
              "      <td>PAYMENT</td>\n",
              "      <td>1864.28</td>\n",
              "      <td>C1666544295</td>\n",
              "      <td>21249.0</td>\n",
              "      <td>19384.72</td>\n",
              "      <td>M2044282225</td>\n",
              "      <td>0.0</td>\n",
              "      <td>0.0</td>\n",
              "      <td>0</td>\n",
              "      <td>0</td>\n",
              "    </tr>\n",
              "    <tr>\n",
              "      <th>2</th>\n",
              "      <td>1</td>\n",
              "      <td>TRANSFER</td>\n",
              "      <td>181.00</td>\n",
              "      <td>C1305486145</td>\n",
              "      <td>181.0</td>\n",
              "      <td>0.00</td>\n",
              "      <td>C553264065</td>\n",
              "      <td>0.0</td>\n",
              "      <td>0.0</td>\n",
              "      <td>1</td>\n",
              "      <td>0</td>\n",
              "    </tr>\n",
              "    <tr>\n",
              "      <th>3</th>\n",
              "      <td>1</td>\n",
              "      <td>CASH_OUT</td>\n",
              "      <td>181.00</td>\n",
              "      <td>C840083671</td>\n",
              "      <td>181.0</td>\n",
              "      <td>0.00</td>\n",
              "      <td>C38997010</td>\n",
              "      <td>21182.0</td>\n",
              "      <td>0.0</td>\n",
              "      <td>1</td>\n",
              "      <td>0</td>\n",
              "    </tr>\n",
              "    <tr>\n",
              "      <th>4</th>\n",
              "      <td>1</td>\n",
              "      <td>PAYMENT</td>\n",
              "      <td>11668.14</td>\n",
              "      <td>C2048537720</td>\n",
              "      <td>41554.0</td>\n",
              "      <td>29885.86</td>\n",
              "      <td>M1230701703</td>\n",
              "      <td>0.0</td>\n",
              "      <td>0.0</td>\n",
              "      <td>0</td>\n",
              "      <td>0</td>\n",
              "    </tr>\n",
              "  </tbody>\n",
              "</table>\n",
              "</div>\n",
              "    <div class=\"colab-df-buttons\">\n",
              "\n",
              "  <div class=\"colab-df-container\">\n",
              "    <button class=\"colab-df-convert\" onclick=\"convertToInteractive('df-85b7d890-45df-4acb-8f66-c8ce1cceec4e')\"\n",
              "            title=\"Convert this dataframe to an interactive table.\"\n",
              "            style=\"display:none;\">\n",
              "\n",
              "  <svg xmlns=\"http://www.w3.org/2000/svg\" height=\"24px\" viewBox=\"0 -960 960 960\">\n",
              "    <path d=\"M120-120v-720h720v720H120Zm60-500h600v-160H180v160Zm220 220h160v-160H400v160Zm0 220h160v-160H400v160ZM180-400h160v-160H180v160Zm440 0h160v-160H620v160ZM180-180h160v-160H180v160Zm440 0h160v-160H620v160Z\"/>\n",
              "  </svg>\n",
              "    </button>\n",
              "\n",
              "  <style>\n",
              "    .colab-df-container {\n",
              "      display:flex;\n",
              "      gap: 12px;\n",
              "    }\n",
              "\n",
              "    .colab-df-convert {\n",
              "      background-color: #E8F0FE;\n",
              "      border: none;\n",
              "      border-radius: 50%;\n",
              "      cursor: pointer;\n",
              "      display: none;\n",
              "      fill: #1967D2;\n",
              "      height: 32px;\n",
              "      padding: 0 0 0 0;\n",
              "      width: 32px;\n",
              "    }\n",
              "\n",
              "    .colab-df-convert:hover {\n",
              "      background-color: #E2EBFA;\n",
              "      box-shadow: 0px 1px 2px rgba(60, 64, 67, 0.3), 0px 1px 3px 1px rgba(60, 64, 67, 0.15);\n",
              "      fill: #174EA6;\n",
              "    }\n",
              "\n",
              "    .colab-df-buttons div {\n",
              "      margin-bottom: 4px;\n",
              "    }\n",
              "\n",
              "    [theme=dark] .colab-df-convert {\n",
              "      background-color: #3B4455;\n",
              "      fill: #D2E3FC;\n",
              "    }\n",
              "\n",
              "    [theme=dark] .colab-df-convert:hover {\n",
              "      background-color: #434B5C;\n",
              "      box-shadow: 0px 1px 3px 1px rgba(0, 0, 0, 0.15);\n",
              "      filter: drop-shadow(0px 1px 2px rgba(0, 0, 0, 0.3));\n",
              "      fill: #FFFFFF;\n",
              "    }\n",
              "  </style>\n",
              "\n",
              "    <script>\n",
              "      const buttonEl =\n",
              "        document.querySelector('#df-85b7d890-45df-4acb-8f66-c8ce1cceec4e button.colab-df-convert');\n",
              "      buttonEl.style.display =\n",
              "        google.colab.kernel.accessAllowed ? 'block' : 'none';\n",
              "\n",
              "      async function convertToInteractive(key) {\n",
              "        const element = document.querySelector('#df-85b7d890-45df-4acb-8f66-c8ce1cceec4e');\n",
              "        const dataTable =\n",
              "          await google.colab.kernel.invokeFunction('convertToInteractive',\n",
              "                                                    [key], {});\n",
              "        if (!dataTable) return;\n",
              "\n",
              "        const docLinkHtml = 'Like what you see? Visit the ' +\n",
              "          '<a target=\"_blank\" href=https://colab.research.google.com/notebooks/data_table.ipynb>data table notebook</a>'\n",
              "          + ' to learn more about interactive tables.';\n",
              "        element.innerHTML = '';\n",
              "        dataTable['output_type'] = 'display_data';\n",
              "        await google.colab.output.renderOutput(dataTable, element);\n",
              "        const docLink = document.createElement('div');\n",
              "        docLink.innerHTML = docLinkHtml;\n",
              "        element.appendChild(docLink);\n",
              "      }\n",
              "    </script>\n",
              "  </div>\n",
              "\n",
              "\n",
              "    <div id=\"df-ff3bf089-c66e-4b90-a70b-ccf4ee847466\">\n",
              "      <button class=\"colab-df-quickchart\" onclick=\"quickchart('df-ff3bf089-c66e-4b90-a70b-ccf4ee847466')\"\n",
              "                title=\"Suggest charts\"\n",
              "                style=\"display:none;\">\n",
              "\n",
              "<svg xmlns=\"http://www.w3.org/2000/svg\" height=\"24px\"viewBox=\"0 0 24 24\"\n",
              "     width=\"24px\">\n",
              "    <g>\n",
              "        <path d=\"M19 3H5c-1.1 0-2 .9-2 2v14c0 1.1.9 2 2 2h14c1.1 0 2-.9 2-2V5c0-1.1-.9-2-2-2zM9 17H7v-7h2v7zm4 0h-2V7h2v10zm4 0h-2v-4h2v4z\"/>\n",
              "    </g>\n",
              "</svg>\n",
              "      </button>\n",
              "\n",
              "<style>\n",
              "  .colab-df-quickchart {\n",
              "      --bg-color: #E8F0FE;\n",
              "      --fill-color: #1967D2;\n",
              "      --hover-bg-color: #E2EBFA;\n",
              "      --hover-fill-color: #174EA6;\n",
              "      --disabled-fill-color: #AAA;\n",
              "      --disabled-bg-color: #DDD;\n",
              "  }\n",
              "\n",
              "  [theme=dark] .colab-df-quickchart {\n",
              "      --bg-color: #3B4455;\n",
              "      --fill-color: #D2E3FC;\n",
              "      --hover-bg-color: #434B5C;\n",
              "      --hover-fill-color: #FFFFFF;\n",
              "      --disabled-bg-color: #3B4455;\n",
              "      --disabled-fill-color: #666;\n",
              "  }\n",
              "\n",
              "  .colab-df-quickchart {\n",
              "    background-color: var(--bg-color);\n",
              "    border: none;\n",
              "    border-radius: 50%;\n",
              "    cursor: pointer;\n",
              "    display: none;\n",
              "    fill: var(--fill-color);\n",
              "    height: 32px;\n",
              "    padding: 0;\n",
              "    width: 32px;\n",
              "  }\n",
              "\n",
              "  .colab-df-quickchart:hover {\n",
              "    background-color: var(--hover-bg-color);\n",
              "    box-shadow: 0 1px 2px rgba(60, 64, 67, 0.3), 0 1px 3px 1px rgba(60, 64, 67, 0.15);\n",
              "    fill: var(--button-hover-fill-color);\n",
              "  }\n",
              "\n",
              "  .colab-df-quickchart-complete:disabled,\n",
              "  .colab-df-quickchart-complete:disabled:hover {\n",
              "    background-color: var(--disabled-bg-color);\n",
              "    fill: var(--disabled-fill-color);\n",
              "    box-shadow: none;\n",
              "  }\n",
              "\n",
              "  .colab-df-spinner {\n",
              "    border: 2px solid var(--fill-color);\n",
              "    border-color: transparent;\n",
              "    border-bottom-color: var(--fill-color);\n",
              "    animation:\n",
              "      spin 1s steps(1) infinite;\n",
              "  }\n",
              "\n",
              "  @keyframes spin {\n",
              "    0% {\n",
              "      border-color: transparent;\n",
              "      border-bottom-color: var(--fill-color);\n",
              "      border-left-color: var(--fill-color);\n",
              "    }\n",
              "    20% {\n",
              "      border-color: transparent;\n",
              "      border-left-color: var(--fill-color);\n",
              "      border-top-color: var(--fill-color);\n",
              "    }\n",
              "    30% {\n",
              "      border-color: transparent;\n",
              "      border-left-color: var(--fill-color);\n",
              "      border-top-color: var(--fill-color);\n",
              "      border-right-color: var(--fill-color);\n",
              "    }\n",
              "    40% {\n",
              "      border-color: transparent;\n",
              "      border-right-color: var(--fill-color);\n",
              "      border-top-color: var(--fill-color);\n",
              "    }\n",
              "    60% {\n",
              "      border-color: transparent;\n",
              "      border-right-color: var(--fill-color);\n",
              "    }\n",
              "    80% {\n",
              "      border-color: transparent;\n",
              "      border-right-color: var(--fill-color);\n",
              "      border-bottom-color: var(--fill-color);\n",
              "    }\n",
              "    90% {\n",
              "      border-color: transparent;\n",
              "      border-bottom-color: var(--fill-color);\n",
              "    }\n",
              "  }\n",
              "</style>\n",
              "\n",
              "      <script>\n",
              "        async function quickchart(key) {\n",
              "          const quickchartButtonEl =\n",
              "            document.querySelector('#' + key + ' button');\n",
              "          quickchartButtonEl.disabled = true;  // To prevent multiple clicks.\n",
              "          quickchartButtonEl.classList.add('colab-df-spinner');\n",
              "          try {\n",
              "            const charts = await google.colab.kernel.invokeFunction(\n",
              "                'suggestCharts', [key], {});\n",
              "          } catch (error) {\n",
              "            console.error('Error during call to suggestCharts:', error);\n",
              "          }\n",
              "          quickchartButtonEl.classList.remove('colab-df-spinner');\n",
              "          quickchartButtonEl.classList.add('colab-df-quickchart-complete');\n",
              "        }\n",
              "        (() => {\n",
              "          let quickchartButtonEl =\n",
              "            document.querySelector('#df-ff3bf089-c66e-4b90-a70b-ccf4ee847466 button');\n",
              "          quickchartButtonEl.style.display =\n",
              "            google.colab.kernel.accessAllowed ? 'block' : 'none';\n",
              "        })();\n",
              "      </script>\n",
              "    </div>\n",
              "\n",
              "    </div>\n",
              "  </div>\n"
            ],
            "application/vnd.google.colaboratory.intrinsic+json": {
              "type": "dataframe",
              "variable_name": "data"
            }
          },
          "metadata": {},
          "execution_count": 21
        }
      ],
      "source": [
        "import pandas as pd\n",
        "\n",
        "data = pd.read_csv(\"/content/Synthetic_Financial_datasets_log.csv\")\n",
        "data.head()"
      ]
    },
    {
      "cell_type": "code",
      "source": [
        "data.shape"
      ],
      "metadata": {
        "colab": {
          "base_uri": "https://localhost:8080/"
        },
        "id": "cT2EJuMzIA1y",
        "outputId": "02e7d09c-cbf1-4946-9cfc-8efa1dc5363e"
      },
      "execution_count": 22,
      "outputs": [
        {
          "output_type": "execute_result",
          "data": {
            "text/plain": [
              "(1048575, 11)"
            ]
          },
          "metadata": {},
          "execution_count": 22
        }
      ]
    },
    {
      "cell_type": "code",
      "source": [
        "data.info()"
      ],
      "metadata": {
        "colab": {
          "base_uri": "https://localhost:8080/"
        },
        "id": "NceOuaHZLaOT",
        "outputId": "4624d22d-b8b6-4ab8-85f5-96baf440a9ac"
      },
      "execution_count": 23,
      "outputs": [
        {
          "output_type": "stream",
          "name": "stdout",
          "text": [
            "<class 'pandas.core.frame.DataFrame'>\n",
            "RangeIndex: 1048575 entries, 0 to 1048574\n",
            "Data columns (total 11 columns):\n",
            " #   Column          Non-Null Count    Dtype  \n",
            "---  ------          --------------    -----  \n",
            " 0   step            1048575 non-null  int64  \n",
            " 1   type            1048575 non-null  object \n",
            " 2   amount          1048575 non-null  float64\n",
            " 3   nameOrig        1048575 non-null  object \n",
            " 4   oldbalanceOrg   1048575 non-null  float64\n",
            " 5   newbalanceOrig  1048575 non-null  float64\n",
            " 6   nameDest        1048575 non-null  object \n",
            " 7   oldbalanceDest  1048575 non-null  float64\n",
            " 8   newbalanceDest  1048575 non-null  float64\n",
            " 9   isFraud         1048575 non-null  int64  \n",
            " 10  isFlaggedFraud  1048575 non-null  int64  \n",
            "dtypes: float64(5), int64(3), object(3)\n",
            "memory usage: 88.0+ MB\n"
          ]
        }
      ]
    },
    {
      "cell_type": "code",
      "source": [
        "data.columns"
      ],
      "metadata": {
        "colab": {
          "base_uri": "https://localhost:8080/"
        },
        "id": "ecYkRVdrIA7S",
        "outputId": "e205af8f-d3d7-4a2f-b828-6be143236b4d"
      },
      "execution_count": 24,
      "outputs": [
        {
          "output_type": "execute_result",
          "data": {
            "text/plain": [
              "Index(['step', 'type', 'amount', 'nameOrig', 'oldbalanceOrg', 'newbalanceOrig',\n",
              "       'nameDest', 'oldbalanceDest', 'newbalanceDest', 'isFraud',\n",
              "       'isFlaggedFraud'],\n",
              "      dtype='object')"
            ]
          },
          "metadata": {},
          "execution_count": 24
        }
      ]
    },
    {
      "cell_type": "code",
      "source": [
        "data.isnull().sum()"
      ],
      "metadata": {
        "colab": {
          "base_uri": "https://localhost:8080/",
          "height": 429
        },
        "id": "9pfas7d6IA9w",
        "outputId": "5f7859f9-180a-453c-e923-5667029f60de"
      },
      "execution_count": 25,
      "outputs": [
        {
          "output_type": "execute_result",
          "data": {
            "text/plain": [
              "step              0\n",
              "type              0\n",
              "amount            0\n",
              "nameOrig          0\n",
              "oldbalanceOrg     0\n",
              "newbalanceOrig    0\n",
              "nameDest          0\n",
              "oldbalanceDest    0\n",
              "newbalanceDest    0\n",
              "isFraud           0\n",
              "isFlaggedFraud    0\n",
              "dtype: int64"
            ],
            "text/html": [
              "<div>\n",
              "<style scoped>\n",
              "    .dataframe tbody tr th:only-of-type {\n",
              "        vertical-align: middle;\n",
              "    }\n",
              "\n",
              "    .dataframe tbody tr th {\n",
              "        vertical-align: top;\n",
              "    }\n",
              "\n",
              "    .dataframe thead th {\n",
              "        text-align: right;\n",
              "    }\n",
              "</style>\n",
              "<table border=\"1\" class=\"dataframe\">\n",
              "  <thead>\n",
              "    <tr style=\"text-align: right;\">\n",
              "      <th></th>\n",
              "      <th>0</th>\n",
              "    </tr>\n",
              "  </thead>\n",
              "  <tbody>\n",
              "    <tr>\n",
              "      <th>step</th>\n",
              "      <td>0</td>\n",
              "    </tr>\n",
              "    <tr>\n",
              "      <th>type</th>\n",
              "      <td>0</td>\n",
              "    </tr>\n",
              "    <tr>\n",
              "      <th>amount</th>\n",
              "      <td>0</td>\n",
              "    </tr>\n",
              "    <tr>\n",
              "      <th>nameOrig</th>\n",
              "      <td>0</td>\n",
              "    </tr>\n",
              "    <tr>\n",
              "      <th>oldbalanceOrg</th>\n",
              "      <td>0</td>\n",
              "    </tr>\n",
              "    <tr>\n",
              "      <th>newbalanceOrig</th>\n",
              "      <td>0</td>\n",
              "    </tr>\n",
              "    <tr>\n",
              "      <th>nameDest</th>\n",
              "      <td>0</td>\n",
              "    </tr>\n",
              "    <tr>\n",
              "      <th>oldbalanceDest</th>\n",
              "      <td>0</td>\n",
              "    </tr>\n",
              "    <tr>\n",
              "      <th>newbalanceDest</th>\n",
              "      <td>0</td>\n",
              "    </tr>\n",
              "    <tr>\n",
              "      <th>isFraud</th>\n",
              "      <td>0</td>\n",
              "    </tr>\n",
              "    <tr>\n",
              "      <th>isFlaggedFraud</th>\n",
              "      <td>0</td>\n",
              "    </tr>\n",
              "  </tbody>\n",
              "</table>\n",
              "</div><br><label><b>dtype:</b> int64</label>"
            ]
          },
          "metadata": {},
          "execution_count": 25
        }
      ]
    },
    {
      "cell_type": "markdown",
      "source": [
        "# Phase 2: Data Cleaning and Exploration\n"
      ],
      "metadata": {
        "id": "TCYtTE4aSD-9"
      }
    },
    {
      "cell_type": "markdown",
      "source": [
        "# Initial Review"
      ],
      "metadata": {
        "id": "Sn0CLsnCSHBT"
      }
    },
    {
      "cell_type": "markdown",
      "source": [
        "o Check for missing or inconsistent values.\n",
        "\n",
        "o Remove or handle columns that are irrelevant for fraud detection.\n",
        "Justify your choice.\n"
      ],
      "metadata": {
        "id": "dpPiPIuqSMHY"
      }
    },
    {
      "cell_type": "code",
      "source": [
        "#dfCol = data.drop(columns=['nameOrig', 'nameDest'], inplace = True)\n"
      ],
      "metadata": {
        "id": "5BWf3AAIIBBM"
      },
      "execution_count": 26,
      "outputs": []
    },
    {
      "cell_type": "code",
      "source": [
        "data.dropna(inplace=True)"
      ],
      "metadata": {
        "id": "oTibW7UbKBRH"
      },
      "execution_count": 27,
      "outputs": []
    },
    {
      "cell_type": "code",
      "source": [
        "data.isnull().sum()"
      ],
      "metadata": {
        "colab": {
          "base_uri": "https://localhost:8080/",
          "height": 429
        },
        "id": "MY--pNnOKBNv",
        "outputId": "e3d2ee3e-9941-4bc2-fe7c-59107aa2b95f"
      },
      "execution_count": 28,
      "outputs": [
        {
          "output_type": "execute_result",
          "data": {
            "text/plain": [
              "step              0\n",
              "type              0\n",
              "amount            0\n",
              "nameOrig          0\n",
              "oldbalanceOrg     0\n",
              "newbalanceOrig    0\n",
              "nameDest          0\n",
              "oldbalanceDest    0\n",
              "newbalanceDest    0\n",
              "isFraud           0\n",
              "isFlaggedFraud    0\n",
              "dtype: int64"
            ],
            "text/html": [
              "<div>\n",
              "<style scoped>\n",
              "    .dataframe tbody tr th:only-of-type {\n",
              "        vertical-align: middle;\n",
              "    }\n",
              "\n",
              "    .dataframe tbody tr th {\n",
              "        vertical-align: top;\n",
              "    }\n",
              "\n",
              "    .dataframe thead th {\n",
              "        text-align: right;\n",
              "    }\n",
              "</style>\n",
              "<table border=\"1\" class=\"dataframe\">\n",
              "  <thead>\n",
              "    <tr style=\"text-align: right;\">\n",
              "      <th></th>\n",
              "      <th>0</th>\n",
              "    </tr>\n",
              "  </thead>\n",
              "  <tbody>\n",
              "    <tr>\n",
              "      <th>step</th>\n",
              "      <td>0</td>\n",
              "    </tr>\n",
              "    <tr>\n",
              "      <th>type</th>\n",
              "      <td>0</td>\n",
              "    </tr>\n",
              "    <tr>\n",
              "      <th>amount</th>\n",
              "      <td>0</td>\n",
              "    </tr>\n",
              "    <tr>\n",
              "      <th>nameOrig</th>\n",
              "      <td>0</td>\n",
              "    </tr>\n",
              "    <tr>\n",
              "      <th>oldbalanceOrg</th>\n",
              "      <td>0</td>\n",
              "    </tr>\n",
              "    <tr>\n",
              "      <th>newbalanceOrig</th>\n",
              "      <td>0</td>\n",
              "    </tr>\n",
              "    <tr>\n",
              "      <th>nameDest</th>\n",
              "      <td>0</td>\n",
              "    </tr>\n",
              "    <tr>\n",
              "      <th>oldbalanceDest</th>\n",
              "      <td>0</td>\n",
              "    </tr>\n",
              "    <tr>\n",
              "      <th>newbalanceDest</th>\n",
              "      <td>0</td>\n",
              "    </tr>\n",
              "    <tr>\n",
              "      <th>isFraud</th>\n",
              "      <td>0</td>\n",
              "    </tr>\n",
              "    <tr>\n",
              "      <th>isFlaggedFraud</th>\n",
              "      <td>0</td>\n",
              "    </tr>\n",
              "  </tbody>\n",
              "</table>\n",
              "</div><br><label><b>dtype:</b> int64</label>"
            ]
          },
          "metadata": {},
          "execution_count": 28
        }
      ]
    },
    {
      "cell_type": "markdown",
      "source": [
        "# Exploratory Analysis\n"
      ],
      "metadata": {
        "id": "CAyCxGUmNVvD"
      }
    },
    {
      "cell_type": "markdown",
      "source": [
        "o Calculate the total number of transactions and categorize them by\n",
        "type.\n"
      ],
      "metadata": {
        "id": "Gn618vzJNFvo"
      }
    },
    {
      "cell_type": "code",
      "source": [
        "print(\"Total transactions : \", len(data))"
      ],
      "metadata": {
        "colab": {
          "base_uri": "https://localhost:8080/"
        },
        "id": "-Yd0ITFeKBLe",
        "outputId": "a62f8765-279a-4f6c-d47c-e61e565cd685"
      },
      "execution_count": 29,
      "outputs": [
        {
          "output_type": "stream",
          "name": "stdout",
          "text": [
            "Total transactions :  1048575\n"
          ]
        }
      ]
    },
    {
      "cell_type": "code",
      "source": [
        "print(\"Type of transaction : \",data['type'].value_counts())"
      ],
      "metadata": {
        "colab": {
          "base_uri": "https://localhost:8080/"
        },
        "id": "atFFVlXbMxbs",
        "outputId": "07a7cbdb-c8d0-4045-d2f5-7020478ab479"
      },
      "execution_count": 30,
      "outputs": [
        {
          "output_type": "stream",
          "name": "stdout",
          "text": [
            "Type of transaction :  type\n",
            "CASH_OUT    373641\n",
            "PAYMENT     353873\n",
            "CASH_IN     227130\n",
            "TRANSFER     86753\n",
            "DEBIT         7178\n",
            "Name: count, dtype: int64\n"
          ]
        }
      ]
    },
    {
      "cell_type": "markdown",
      "source": [
        "o Identify the percentage of fraudulent transactions and compare\n",
        "them across transaction types"
      ],
      "metadata": {
        "id": "ippddUmsNhd0"
      }
    },
    {
      "cell_type": "code",
      "source": [
        "print(\"Fraud Percentage:\", data['isFraud'].mean() * 100)"
      ],
      "metadata": {
        "colab": {
          "base_uri": "https://localhost:8080/"
        },
        "id": "NVURlUzKPmVN",
        "outputId": "16a2a061-6647-4a02-b174-433cb6e6e53b"
      },
      "execution_count": 31,
      "outputs": [
        {
          "output_type": "stream",
          "name": "stdout",
          "text": [
            "Fraud Percentage: 0.10890971079798775\n"
          ]
        }
      ]
    },
    {
      "cell_type": "code",
      "source": [
        "print(\"Type of fraud : \", data[data['isFraud'] == 1]['type'].value_counts())"
      ],
      "metadata": {
        "colab": {
          "base_uri": "https://localhost:8080/"
        },
        "id": "pONAGUAJMxWA",
        "outputId": "01c7d925-54c3-4e3e-fdce-7912a8f1659c"
      },
      "execution_count": 32,
      "outputs": [
        {
          "output_type": "stream",
          "name": "stdout",
          "text": [
            "Type of fraud :  type\n",
            "CASH_OUT    578\n",
            "TRANSFER    564\n",
            "Name: count, dtype: int64\n"
          ]
        }
      ]
    },
    {
      "cell_type": "code",
      "source": [
        "print(\"Percentage of fraudulent transactions\", (data[data['isFraud'] == 1]['type'].value_counts() / data['type'].value_counts() * 100))\n"
      ],
      "metadata": {
        "colab": {
          "base_uri": "https://localhost:8080/"
        },
        "id": "9h06w43OMxTi",
        "outputId": "a87476fb-3c78-4196-90b3-13cd18e87e9f"
      },
      "execution_count": 33,
      "outputs": [
        {
          "output_type": "stream",
          "name": "stdout",
          "text": [
            "Percentage of fraudulent transactions type\n",
            "CASH_IN          NaN\n",
            "CASH_OUT    0.154694\n",
            "DEBIT            NaN\n",
            "PAYMENT          NaN\n",
            "TRANSFER    0.650122\n",
            "Name: count, dtype: float64\n"
          ]
        }
      ]
    },
    {
      "cell_type": "markdown",
      "source": [
        "o Examine the distribution of transaction amounts (mean, median,\n",
        "standard deviation) for both fraudulent and non-fraudulent\n",
        "transactions.\n"
      ],
      "metadata": {
        "id": "SvoqHOdtP37r"
      }
    },
    {
      "cell_type": "code",
      "source": [
        "print(\"Fraudulent and NON-Fraudulent transactions\")\n",
        "grouped = data.groupby('isFraud')['amount']\n",
        "print(\"Mean:\", grouped.mean())\n",
        "print(\"Median:\", grouped.median())\n",
        "print(\"Standard deviation:\", grouped.std())"
      ],
      "metadata": {
        "colab": {
          "base_uri": "https://localhost:8080/"
        },
        "id": "EyqlxABCPvsP",
        "outputId": "e33e985c-db39-4af0-877d-622d181849d8"
      },
      "execution_count": 34,
      "outputs": [
        {
          "output_type": "stream",
          "name": "stdout",
          "text": [
            "Fraudulent and NON-Fraudulent transactions\n",
            "Mean: isFraud\n",
            "0    1.575397e+05\n",
            "1    1.192629e+06\n",
            "Name: amount, dtype: float64\n",
            "Median: isFraud\n",
            "0     76214.97\n",
            "1    353179.45\n",
            "Name: amount, dtype: float64\n",
            "Standard deviation: isFraud\n",
            "0    2.541883e+05\n",
            "1    2.030599e+06\n",
            "Name: amount, dtype: float64\n"
          ]
        }
      ]
    },
    {
      "cell_type": "markdown",
      "source": [
        "# Phase 3: Real-Life Fraud Detection Analysis\n"
      ],
      "metadata": {
        "id": "Jgc0M3JYRPt2"
      }
    },
    {
      "cell_type": "markdown",
      "source": [
        "# Detecting Suspicious Patterns\n"
      ],
      "metadata": {
        "id": "19UaXcMURGeL"
      }
    },
    {
      "cell_type": "code",
      "source": [
        "data['isFlaggedFraud'] = (data['amount'] > 200000).astype(int)\n",
        "\n",
        "print(\"Transactions flagged :\", data['isFlaggedFraud'].sum())\n"
      ],
      "metadata": {
        "id": "OYWU5eEtQ54H",
        "colab": {
          "base_uri": "https://localhost:8080/"
        },
        "outputId": "cf467b23-5ec2-4ab6-b4de-a139f0604029"
      },
      "execution_count": 35,
      "outputs": [
        {
          "output_type": "stream",
          "name": "stdout",
          "text": [
            "Transactions flagged : 283371\n"
          ]
        }
      ]
    },
    {
      "cell_type": "code",
      "source": [
        "fraud = data[data['isFraud'] == 1]\n",
        "\n",
        "print(f\"Fraud by type: {fraud['type'].value_counts()}\")\n",
        "\n",
        "print(f\"Time steps for fraud: {fraud['step'].value_counts()}\")\n",
        "\n",
        "print(\"Average:\", fraud['amount'].mean())\n",
        "print(\"Median:\", fraud['amount'].median())\n",
        "print(\"Max:\", fraud['amount'].max())\n",
        "print(\"Min:\", fraud['amount'].min())\n"
      ],
      "metadata": {
        "colab": {
          "base_uri": "https://localhost:8080/"
        },
        "id": "0-wA6vASjAcB",
        "outputId": "5126a4f7-9424-4c19-f5e1-d3f873aad14d"
      },
      "execution_count": 44,
      "outputs": [
        {
          "output_type": "stream",
          "name": "stdout",
          "text": [
            "Fraud by type: type\n",
            "CASH_OUT    578\n",
            "TRANSFER    564\n",
            "Name: count, dtype: int64\n",
            "Time steps for fraud: step\n",
            "66    24\n",
            "22    23\n",
            "6     22\n",
            "34    22\n",
            "74    22\n",
            "      ..\n",
            "29     4\n",
            "49     4\n",
            "54     4\n",
            "76     4\n",
            "23     2\n",
            "Name: count, Length: 95, dtype: int64\n",
            "Average: 1192628.9320753065\n",
            "Median: 353179.44999999995\n",
            "Max: 10000000.0\n",
            "Min: 119.0\n"
          ]
        }
      ]
    },
    {
      "cell_type": "markdown",
      "source": [
        "## Group Analysis"
      ],
      "metadata": {
        "id": "1G8Rx1mUjrNZ"
      }
    },
    {
      "cell_type": "code",
      "source": [
        "tCount = data['type'].value_counts()\n",
        "tSum = data.groupby('type')['amount'].sum()\n",
        "\n",
        "print(\"Transaction count by type:\\n\", tCount)\n",
        "print(\"\\nTotal transaction value by type:\\n\", tSum)\n"
      ],
      "metadata": {
        "colab": {
          "base_uri": "https://localhost:8080/"
        },
        "id": "47VQNjQljqHU",
        "outputId": "acb75a03-862b-4af6-dd90-811fecfc3842"
      },
      "execution_count": 39,
      "outputs": [
        {
          "output_type": "stream",
          "name": "stdout",
          "text": [
            "Transaction count by type:\n",
            " type\n",
            "CASH_OUT    373641\n",
            "PAYMENT     353873\n",
            "CASH_IN     227130\n",
            "TRANSFER     86753\n",
            "DEBIT         7178\n",
            "Name: count, dtype: int64\n",
            "\n",
            "Total transaction value by type:\n",
            " type\n",
            "CASH_IN     3.859476e+10\n",
            "CASH_OUT    6.876474e+10\n",
            "DEBIT       4.219599e+07\n",
            "PAYMENT     3.936097e+09\n",
            "TRANSFER    5.503644e+10\n",
            "Name: amount, dtype: float64\n"
          ]
        }
      ]
    },
    {
      "cell_type": "code",
      "source": [
        "fraud = data[data['isFraud'] == 1]\n",
        "\n",
        "origFraud = fraud['nameOrig'].value_counts()\n",
        "origFraud = origFraud[origFraud > 1]\n",
        "\n",
        "destFraud = fraud['nameDest'].value_counts()\n",
        "destFraud = destFraud[destFraud > 1]\n",
        "\n",
        "print(\"origFraud repeatedly involved in fraud:\")\n",
        "print(origFraud)\n",
        "\n",
        "print(\"\\nnameDest repeatedly involved in fraud:\")\n",
        "print(destFraud)\n"
      ],
      "metadata": {
        "colab": {
          "base_uri": "https://localhost:8080/"
        },
        "id": "zBncinKhkd8o",
        "outputId": "fed6d8fe-6adb-4140-e699-fd872821befd"
      },
      "execution_count": 41,
      "outputs": [
        {
          "output_type": "stream",
          "name": "stdout",
          "text": [
            "origFraud repeatedly involved in fraud:\n",
            "Series([], Name: count, dtype: int64)\n",
            "\n",
            "nameDest repeatedly involved in fraud:\n",
            "nameDest\n",
            "C935310781     2\n",
            "C1013511446    2\n",
            "C1827219533    2\n",
            "C104038589     2\n",
            "C1981613973    2\n",
            "C200064275     2\n",
            "C410033330     2\n",
            "C52390890      2\n",
            "C803116137     2\n",
            "C185805228     2\n",
            "Name: count, dtype: int64\n"
          ]
        }
      ]
    },
    {
      "cell_type": "markdown",
      "source": [
        "# Data Visualization"
      ],
      "metadata": {
        "id": "KEjK9hiYyTyq"
      }
    },
    {
      "cell_type": "code",
      "source": [
        "import matplotlib.pyplot as plt\n",
        "import seaborn as sns"
      ],
      "metadata": {
        "id": "DHMmWI5pyYHn"
      },
      "execution_count": 45,
      "outputs": []
    },
    {
      "cell_type": "markdown",
      "source": [
        "This plot visualizes the count of fraudulent transactions by type, highlighting which transaction types are most associated with fraud."
      ],
      "metadata": {
        "id": "S4fvVvL719MA"
      }
    },
    {
      "cell_type": "code",
      "source": [
        "plt.figure(figsize=(8,5), facecolor='#f8f9fa')\n",
        "ax = plt.gca()\n",
        "ax.set_facecolor('#ffffff')\n",
        "\n",
        "unique_types = fraud['type'].value_counts().index\n",
        "palette = sns.color_palette(['#e63946', '#457b9d'])[:len(unique_types)]\n",
        "\n",
        "sns.countplot(data=fraud, x='type', order=unique_types,\n",
        "             palette=palette, hue='type', legend=False,\n",
        "             edgecolor='black', linewidth=0.8, saturation=0.9)\n",
        "\n",
        "plt.title('Fraud Distribution by Transaction Type\\n',\n",
        "         fontsize=14, fontweight='bold', pad=20, color='#2b2d42')\n",
        "plt.xlabel('Transaction Type', fontsize=12, labelpad=10)\n",
        "plt.ylabel('Fraud Count', fontsize=12, labelpad=10)\n",
        "\n",
        "for p in ax.patches:\n",
        "    ax.annotate(f'{p.get_height():,.0f}',\n",
        "               (p.get_x() + p.get_width()/2., p.get_height()),\n",
        "               ha='center', va='center',\n",
        "               xytext=(0, 5),\n",
        "               textcoords='offset points',\n",
        "               fontsize=10)\n",
        "\n",
        "plt.xticks(fontsize=11, rotation=15)\n",
        "plt.yticks(fontsize=10)\n",
        "ax.grid(axis='y', linestyle=':', color='lightgray', alpha=0.7)\n",
        "\n",
        "plt.tight_layout()\n",
        "plt.show()"
      ],
      "metadata": {
        "colab": {
          "base_uri": "https://localhost:8080/",
          "height": 507
        },
        "id": "GD_KLkU8yYEP",
        "outputId": "e647f7de-9323-4c92-90ea-a7fad288a9f5"
      },
      "execution_count": 52,
      "outputs": [
        {
          "output_type": "display_data",
          "data": {
            "text/plain": [
              "<Figure size 800x500 with 1 Axes>"
            ],
            "image/png": "[encoded data removed]"
          },
          "metadata": {}
        }
      ]
    },
    {
      "cell_type": "markdown",
      "source": [
        "This plot shows how fraudulent transactions are distributed across different time steps, revealing periods with higher fraud activity."
      ],
      "metadata": {
        "id": "55A5San62FwM"
      }
    },
    {
      "cell_type": "code",
      "source": [
        "plt.figure(figsize=(12,5), facecolor='#f8f9fa')\n",
        "ax = plt.gca()\n",
        "ax.set_facecolor('#ffffff')\n",
        "\n",
        "hist = sns.histplot(fraud['step'], bins=50, kde=False,\n",
        "                   color='#4361ee', edgecolor='#3a0ca3',\n",
        "                   linewidth=0.8, alpha=0.85)\n",
        "\n",
        "plt.title('Distribution of Fraudulent Transactions by Time Step\\n',\n",
        "         fontsize=14, fontweight='bold', pad=20, color='#2b2d42')\n",
        "plt.xlabel('Time Step (hours)', fontsize=12, labelpad=10)\n",
        "plt.ylabel('Number of Fraudulent Transactions', fontsize=12, labelpad=10)\n",
        "\n",
        "ax.xaxis.set_major_locator(plt.MaxNLocator(10))\n",
        "plt.xticks(fontsize=10, rotation=0)\n",
        "plt.yticks(fontsize=10)\n",
        "\n",
        "ax.grid(axis='y', linestyle=':', color='lightgray', alpha=0.7)\n",
        "\n",
        "plt.annotate('Peak fraud times', xy=(0.7, 0.85), xycoords='axes fraction',\n",
        "            fontsize=11, bbox=dict(boxstyle='round', facecolor='white', alpha=0.8))\n",
        "\n",
        "plt.tight_layout()\n",
        "plt.show()"
      ],
      "metadata": {
        "colab": {
          "base_uri": "https://localhost:8080/",
          "height": 494
        },
        "id": "bkk5OWWNy4pA",
        "outputId": "35e3901c-3878-40a1-92cb-322abdd2758e"
      },
      "execution_count": 50,
      "outputs": [
        {
          "output_type": "display_data",
          "data": {
            "text/plain": [
              "<Figure size 1200x500 with 1 Axes>"
            ],
            "image/png": "[encoded data removed]"
          },
          "metadata": {}
        }
      ]
    },
    {
      "cell_type": "markdown",
      "source": [
        "This plot illustrates the distribution of fraudulent transaction amounts, showing that most are relatively small, with a few high-value outliers skewing the average."
      ],
      "metadata": {
        "id": "y8gJGxxM2MJW"
      }
    },
    {
      "cell_type": "code",
      "source": [
        "plt.figure(figsize=(10, 6), facecolor='#f5f5f5')\n",
        "ax = plt.gca()\n",
        "ax.set_facecolor('#fafafa')\n",
        "\n",
        "hist = sns.histplot(fraud['amount'], bins=50, color='#e74c3c',\n",
        "                    edgecolor='#c0392b', linewidth=0.5, alpha=0.8)\n",
        "\n",
        "mean_val = fraud['amount'].mean()\n",
        "median_val = fraud['amount'].median()\n",
        "plt.axvline(mean_val, color='#2c3e50', linestyle='--', linewidth=1.5, label=f'Mean: ${mean_val:,.2f}')\n",
        "plt.axvline(median_val, color='#3498db', linestyle='-', linewidth=1.5, label=f'Median: ${median_val:,.2f}')\n",
        "\n",
        "plt.title('Fraudulent Transaction Amount Distribution\\n',\n",
        "          fontsize=14, fontweight='bold', color='#2c3e50')\n",
        "plt.xlabel('Transaction Amount ($)', fontsize=12, labelpad=10)\n",
        "plt.ylabel('Frequency', fontsize=12, labelpad=10)\n",
        "\n",
        "ax.xaxis.set_major_formatter('${x:,.0f}')\n",
        "plt.xticks(fontsize=10)\n",
        "plt.yticks(fontsize=10)\n",
        "\n",
        "ax.grid(axis='y', linestyle='--', alpha=0.7)\n",
        "plt.legend(fontsize=10, framealpha=0.9)\n",
        "\n",
        "plt.annotate('Most fraud amounts are relatively small\\nwith a few large outliers',\n",
        "             xy=(0.65, 0.85), xycoords='axes fraction',\n",
        "             fontsize=10, bbox=dict(boxstyle='round', facecolor='white', alpha=0.8))\n",
        "\n",
        "plt.tight_layout()\n",
        "plt.show()"
      ],
      "metadata": {
        "colab": {
          "base_uri": "https://localhost:8080/",
          "height": 607
        },
        "id": "jVpGEm_Dy9xS",
        "outputId": "a2c6556d-b3b4-48be-ea5b-62a7f297b21d"
      },
      "execution_count": 49,
      "outputs": [
        {
          "output_type": "display_data",
          "data": {
            "text/plain": [
              "<Figure size 1000x600 with 1 Axes>"
            ],
            "image/png": "[encoded data removed]"
          },
          "metadata": {}
        }
      ]
    }
  ]
}