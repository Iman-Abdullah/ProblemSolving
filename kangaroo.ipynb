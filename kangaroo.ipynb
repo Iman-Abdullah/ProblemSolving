{
  "nbformat": 4,
  "nbformat_minor": 0,
  "metadata": {
    "colab": {
      "provenance": []
    },
    "kernelspec": {
      "name": "python3",
      "display_name": "Python 3"
    },
    "language_info": {
      "name": "python"
    }
  },
  "cells": [
    {
      "cell_type": "code",
      "execution_count": 1,
      "metadata": {
        "colab": {
          "base_uri": "https://localhost:8080/"
        },
        "id": "eOhNbVXekpzD",
        "outputId": "95b86fa1-385d-41f6-92c4-6a6148ce8784"
      },
      "outputs": [
        {
          "output_type": "stream",
          "name": "stdout",
          "text": [
            "YES\n",
            "YES\n",
            "NO\n"
          ]
        }
      ],
      "source": [
        "def kangaroo(x1, v1, x2, v2):\n",
        "    if v1 == v2:\n",
        "        return \"YES\" if x1 == x2 else \"NO\"\n",
        "    n = (x2 - x1) / (v1 - v2)\n",
        "    return \"YES\" if n.is_integer() and n >= 0 else \"NO\"\n",
        "\n",
        "\n",
        "print(kangaroo(2, 1, 1, 2))\n",
        "print(kangaroo(0, 3, 4, 2))\n",
        "print(kangaroo(0, 2, 5, 3))\n"
      ]
    }
  ]
}