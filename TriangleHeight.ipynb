{
  "nbformat": 4,
  "nbformat_minor": 0,
  "metadata": {
    "colab": {
      "provenance": []
    },
    "kernelspec": {
      "name": "python3",
      "display_name": "Python 3"
    },
    "language_info": {
      "name": "python"
    }
  },
  "cells": [
    {
      "cell_type": "markdown",
      "source": [
        "Algorithm:\n",
        "Print the triangle after reading the height.\n",
        "\n",
        "1) Start\n",
        "\n",
        "2) User input the height of the triangle.\n",
        "\n",
        "3) Loop from i = 0 to height - 1:\n",
        "\n",
        "- Start an empty list .\n",
        "\n",
        "- Set a variable val = 1.\n",
        "\n",
        "- Loop from j = 0 to i:\n",
        "\n",
        "- Add val to the row.\n",
        "\n",
        "- Multiply val by 2.\n",
        "\n",
        "- After the loop, divide val by 2.\n",
        "\n",
        "- Loop from j = 0 to i - 1:\n",
        "\n",
        "- Divide val by 2.\n",
        "\n",
        "- Add val to the row.\n",
        "\n",
        "- Print the rows .\n",
        "\n",
        "4) End"
      ],
      "metadata": {
        "id": "bZXGW15Fg9fn"
      }
    },
    {
      "cell_type": "code",
      "source": [
        "height = int(input(\"Enter the height of the triangle: \"))\n",
        "\n",
        "for i in range(height):\n",
        "    row = []\n",
        "    val = 1\n",
        "\n",
        "    for j in range(i + 1):\n",
        "        row.append(val)\n",
        "        val *= 2\n",
        "    val //= 2\n",
        "\n",
        "    for j in range(i):\n",
        "        val //= 2\n",
        "        row.append(val)\n",
        "\n",
        "    print(' '.join(str(x) for x in row))\n"
      ],
      "metadata": {
        "colab": {
          "base_uri": "https://localhost:8080/"
        },
        "id": "9E7v7DBYgagc",
        "outputId": "4f02a15d-1fd5-4975-b4a1-666aa6e78847"
      },
      "execution_count": 7,
      "outputs": [
        {
          "output_type": "stream",
          "name": "stdout",
          "text": [
            "Enter the height of the triangle: 8\n",
            "1\n",
            "1 2 1\n",
            "1 2 4 2 1\n",
            "1 2 4 8 4 2 1\n",
            "1 2 4 8 16 8 4 2 1\n",
            "1 2 4 8 16 32 16 8 4 2 1\n",
            "1 2 4 8 16 32 64 32 16 8 4 2 1\n",
            "1 2 4 8 16 32 64 128 64 32 16 8 4 2 1\n"
          ]
        }
      ]
    }
  ]
}