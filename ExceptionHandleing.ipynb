{
  "nbformat": 4,
  "nbformat_minor": 0,
  "metadata": {
    "colab": {
      "provenance": []
    },
    "kernelspec": {
      "name": "python3",
      "display_name": "Python 3"
    },
    "language_info": {
      "name": "python"
    }
  },
  "cells": [
    {
      "cell_type": "code",
      "source": [
        "class Calculator:\n",
        "    # Method Overloading (simulated with default arguments)\n",
        "    def add(self, a, b=0, c=0):\n",
        "        return a + b + c\n",
        "\n",
        "    def describe(self):\n",
        "        print(\"I am a generic calculator.\")\n",
        "\n",
        "class ScientificCalculator(Calculator):\n",
        "    # Method Overriding\n",
        "    def describe(self):\n",
        "        print(\"I am a scientific calculator with advanced functions.\")\n",
        "\n",
        "# Create objects\n",
        "basic_calc = Calculator()\n",
        "sci_calc = ScientificCalculator()\n",
        "\n",
        "# Method Overloading\n",
        "print(basic_calc.add(5, 10))      # Output: 15\n",
        "print(basic_calc.add(5, 10, 15))  # Output: 30\n",
        "\n",
        "# Method Overriding\n",
        "basic_calc.describe()  # Output: I am a generic calculator.\n",
        "sci_calc.describe()    # Output: I am a scientific calculator with advanced functions.\n"
      ],
      "metadata": {
        "colab": {
          "base_uri": "https://localhost:8080/"
        },
        "id": "e-zEI6fpt0UR",
        "outputId": "3a07125c-a75f-4657-ec5c-5c1025060c56"
      },
      "execution_count": null,
      "outputs": [
        {
          "output_type": "stream",
          "name": "stdout",
          "text": [
            "15\n",
            "30\n",
            "I am a generic calculator.\n",
            "I am a scientific calculator with advanced functions.\n"
          ]
        }
      ]
    },
    {
      "cell_type": "markdown",
      "source": [
        "Exception handelrs"
      ],
      "metadata": {
        "id": "j0_ByDr8uT3q"
      }
    },
    {
      "cell_type": "code",
      "source": [
        "amount = 200\n",
        "balance = 100\n",
        "\n",
        "if amount > balance :\n",
        "  raise ValueError (\"Amount exceeds balance\")\n",
        "\n",
        "balance = balance - amount\n"
      ],
      "metadata": {
        "colab": {
          "base_uri": "https://localhost:8080/",
          "height": 211
        },
        "id": "Fe7mbpe7uScf",
        "outputId": "5c1bd6cd-6197-48d2-fa2e-3e5a0c88f7b6"
      },
      "execution_count": null,
      "outputs": [
        {
          "output_type": "error",
          "ename": "ValueError",
          "evalue": "Amount exceeds balance",
          "traceback": [
            "\u001b[0;31m---------------------------------------------------------------------------\u001b[0m",
            "\u001b[0;31mValueError\u001b[0m                                Traceback (most recent call last)",
            "\u001b[0;32m<ipython-input-5-14d4b9904eb9>\u001b[0m in \u001b[0;36m<cell line: 0>\u001b[0;34m()\u001b[0m\n\u001b[1;32m      3\u001b[0m \u001b[0;34m\u001b[0m\u001b[0m\n\u001b[1;32m      4\u001b[0m \u001b[0;32mif\u001b[0m \u001b[0mamount\u001b[0m \u001b[0;34m>\u001b[0m \u001b[0mbalance\u001b[0m \u001b[0;34m:\u001b[0m\u001b[0;34m\u001b[0m\u001b[0;34m\u001b[0m\u001b[0m\n\u001b[0;32m----> 5\u001b[0;31m   \u001b[0;32mraise\u001b[0m \u001b[0mValueError\u001b[0m \u001b[0;34m(\u001b[0m\u001b[0;34m\"Amount exceeds balance\"\u001b[0m\u001b[0;34m)\u001b[0m\u001b[0;34m\u001b[0m\u001b[0;34m\u001b[0m\u001b[0m\n\u001b[0m\u001b[1;32m      6\u001b[0m \u001b[0;34m\u001b[0m\u001b[0m\n\u001b[1;32m      7\u001b[0m \u001b[0mbalance\u001b[0m \u001b[0;34m=\u001b[0m \u001b[0mbalance\u001b[0m \u001b[0;34m-\u001b[0m \u001b[0mamount\u001b[0m\u001b[0;34m\u001b[0m\u001b[0;34m\u001b[0m\u001b[0m\n",
            "\u001b[0;31mValueError\u001b[0m: Amount exceeds balance"
          ]
        }
      ]
    },
    {
      "cell_type": "code",
      "source": [
        "try:\n",
        "  filename = input(\"Enter file name : \")\n",
        "  infile = open(filename, \"r\")\n",
        "  line = infile.readline()\n",
        "  value = int(line)\n",
        "\n",
        "except IOError:\n",
        "  print(\"Error : file not found\")\n",
        "\n",
        "except ValueError as exception:\n",
        "  print(\"Error: \",str(exception))"
      ],
      "metadata": {
        "colab": {
          "base_uri": "https://localhost:8080/"
        },
        "id": "YmNTAm1OvRoU",
        "outputId": "c75b8291-b2c9-48fe-cd8a-3d325b537d6e"
      },
      "execution_count": null,
      "outputs": [
        {
          "output_type": "stream",
          "name": "stdout",
          "text": [
            "Enter file name : 456789\n",
            "Error : file not found\n"
          ]
        }
      ]
    },
    {
      "cell_type": "code",
      "source": [
        "def writeData(file):\n",
        "    file.write(\"Hello, this is me.\")\n",
        "\n",
        "filename = input(\"Enter file name: \")\n",
        "outfile = open(filename, \"w\")\n",
        "\n",
        "try:\n",
        "    writeData(outfile)\n",
        "finally:\n",
        "    outfile.close()\n",
        "\n"
      ],
      "metadata": {
        "colab": {
          "base_uri": "https://localhost:8080/"
        },
        "id": "V9N9H7ZhyHuR",
        "outputId": "6d15c313-a72d-4955-cbfb-31f59e4cb114"
      },
      "execution_count": null,
      "outputs": [
        {
          "name": "stdout",
          "output_type": "stream",
          "text": [
            "Enter file name: input.txt\n"
          ]
        }
      ]
    },
    {
      "cell_type": "code",
      "source": [
        "def divide():\n",
        "  try:\n",
        "    num1 = float(input(\"Enter number 1 : \"))\n",
        "    num2 = float(input(\"Enter number 2 : \"))\n",
        "    result = num1/num2\n",
        "    print(result)\n",
        "\n",
        "  except ValueError:\n",
        "    print(\"Please enter a number\")\n",
        "\n",
        "  except ZeroDivisionError:\n",
        "    print(\"Cannot divide by zero\")\n",
        "\n",
        "  finally:\n",
        "    print(\"num1 / num2 \")\n",
        "\n",
        "divide()"
      ],
      "metadata": {
        "colab": {
          "base_uri": "https://localhost:8080/"
        },
        "id": "H9e5BvOhzabv",
        "outputId": "7502c7aa-cc03-4e12-af32-6ac81e5d70a5"
      },
      "execution_count": null,
      "outputs": [
        {
          "output_type": "stream",
          "name": "stdout",
          "text": [
            "Enter number 1 : 34.5\n",
            "Enter number 2 : 55.2\n",
            "0.625\n",
            "num1 / num2 \n"
          ]
        }
      ]
    }
  ]
}