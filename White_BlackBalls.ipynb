{
  "nbformat": 4,
  "nbformat_minor": 0,
  "metadata": {
    "colab": {
      "provenance": []
    },
    "kernelspec": {
      "name": "python3",
      "display_name": "Python 3"
    },
    "language_info": {
      "name": "python"
    }
  },
  "cells": [
    {
      "cell_type": "code",
      "execution_count": 4,
      "metadata": {
        "colab": {
          "base_uri": "https://localhost:8080/"
        },
        "id": "W7hQnk96Fi1M",
        "outputId": "ed754aaa-79cc-493b-fc10-02a6ea1168e1"
      },
      "outputs": [
        {
          "output_type": "stream",
          "name": "stdout",
          "text": [
            "Enter number of white balls: 2\n",
            "Enter number of black balls: 4\n",
            "Height of triangle: 2\n"
          ]
        }
      ],
      "source": [
        "white = int(input(\"Enter number of white balls: \"))\n",
        "black = int(input(\"Enter number of black balls: \"))\n",
        "\n",
        "row = 1\n",
        "height = 0\n",
        "\n",
        "while True:\n",
        "    if row % 2 == 1:\n",
        "        if white >= row:\n",
        "            white -= row\n",
        "            height += 1\n",
        "        else:\n",
        "            break\n",
        "    else:\n",
        "        if black >= row:\n",
        "            black -= row\n",
        "            height += 1\n",
        "        else:\n",
        "            break\n",
        "    row += 1\n",
        "\n",
        "print(\"Height of triangle:\", height)\n"
      ]
    },
    {
      "cell_type": "code",
      "source": [],
      "metadata": {
        "id": "X7Z85uvJF1-O"
      },
      "execution_count": null,
      "outputs": []
    }
  ]
}