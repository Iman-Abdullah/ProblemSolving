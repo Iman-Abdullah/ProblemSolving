{
  "nbformat": 4,
  "nbformat_minor": 0,
  "metadata": {
    "colab": {
      "provenance": []
    },
    "kernelspec": {
      "name": "python3",
      "display_name": "Python 3"
    },
    "language_info": {
      "name": "python"
    }
  },
  "cells": [
    {
      "cell_type": "code",
      "source": [
        "white = int(input(\"White balls: \"))\n",
        "black = int(input(\"Black balls: \"))\n",
        "\n",
        "row = 1\n",
        "height = 1\n",
        "\n",
        "while True:\n",
        "    if row % 2 and white >= row:\n",
        "        white -= row\n",
        "        height = row\n",
        "    elif row % 2 == 0 and black >= row:\n",
        "        black -= row\n",
        "        height = row\n",
        "    else:\n",
        "        break\n",
        "    row += 1\n",
        "\n",
        "print(\"Height:\", height)"
      ],
      "metadata": {
        "colab": {
          "base_uri": "https://localhost:8080/"
        },
        "id": "X7Z85uvJF1-O",
        "outputId": "ec76f96d-c8cb-40d8-b2b9-4c0e2866dd11"
      },
      "execution_count": 7,
      "outputs": [
        {
          "output_type": "stream",
          "name": "stdout",
          "text": [
            "White balls: 5\n",
            "Black balls: 8\n",
            "Height: 4\n"
          ]
        }
      ]
    }
  ]
}