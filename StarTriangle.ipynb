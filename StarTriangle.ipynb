{
  "nbformat": 4,
  "nbformat_minor": 0,
  "metadata": {
    "colab": {
      "provenance": []
    },
    "kernelspec": {
      "name": "python3",
      "display_name": "Python 3"
    },
    "language_info": {
      "name": "python"
    }
  },
  "cells": [
    {
      "cell_type": "code",
      "execution_count": 1,
      "metadata": {
        "colab": {
          "base_uri": "https://localhost:8080/"
        },
        "id": "iZJUfp97ysx0",
        "outputId": "e6714c42-2a5c-4d60-f759-19d191603207"
      },
      "outputs": [
        {
          "output_type": "stream",
          "name": "stdout",
          "text": [
            "    *\n",
            "   ***\n",
            "  *****\n",
            " *******\n",
            "*********\n"
          ]
        }
      ],
      "source": [
        "# Centered triangle\n",
        "rows = 5\n",
        "\n",
        "for i in range(1, rows + 1):\n",
        "    spaces = ' ' * (rows - i)\n",
        "    stars = '*' * (2 * i - 1)\n",
        "    print(spaces + stars)\n"
      ]
    },
    {
      "cell_type": "code",
      "source": [
        "#Right justified triangle\n",
        "rows = 5\n",
        "\n",
        "for i in range(1, rows + 1):\n",
        "    spaces = ' ' * (rows - i)\n",
        "    stars = '*' * i\n",
        "    print(spaces + stars)\n"
      ],
      "metadata": {
        "colab": {
          "base_uri": "https://localhost:8080/"
        },
        "id": "yV1QRH2Hz00c",
        "outputId": "de6e9b67-5c46-46d1-8285-81e925977120"
      },
      "execution_count": 2,
      "outputs": [
        {
          "output_type": "stream",
          "name": "stdout",
          "text": [
            "    *\n",
            "   **\n",
            "  ***\n",
            " ****\n",
            "*****\n"
          ]
        }
      ]
    },
    {
      "cell_type": "code",
      "source": [
        "#Left justified triangle\n",
        "rows = 5\n",
        "\n",
        "for i in range(1, rows + 1):\n",
        "    stars = '*' * (2 * i - 1)\n",
        "    print(stars)\n"
      ],
      "metadata": {
        "colab": {
          "base_uri": "https://localhost:8080/"
        },
        "id": "griZSllN0Dt-",
        "outputId": "67a0e28a-568a-49ef-afd6-784fa719937d"
      },
      "execution_count": 3,
      "outputs": [
        {
          "output_type": "stream",
          "name": "stdout",
          "text": [
            "*\n",
            "***\n",
            "*****\n",
            "*******\n",
            "*********\n"
          ]
        }
      ]
    }
  ]
}