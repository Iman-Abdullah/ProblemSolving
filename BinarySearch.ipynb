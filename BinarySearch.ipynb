{
  "nbformat": 4,
  "nbformat_minor": 0,
  "metadata": {
    "colab": {
      "provenance": []
    },
    "kernelspec": {
      "name": "python3",
      "display_name": "Python 3"
    },
    "language_info": {
      "name": "python"
    }
  },
  "cells": [
    {
      "cell_type": "code",
      "execution_count": 1,
      "metadata": {
        "colab": {
          "base_uri": "https://localhost:8080/"
        },
        "id": "h6W4YrhmL5lE",
        "outputId": "71e878b7-dffd-4302-f6d9-c321ad4d2358"
      },
      "outputs": [
        {
          "output_type": "stream",
          "name": "stdout",
          "text": [
            "Found at position: 1\n"
          ]
        }
      ],
      "source": [
        "values = [0, 2, 4, 6, 8, 10]\n",
        "limit = 0\n",
        "\n",
        "start = 0\n",
        "end = len(values) - 1\n",
        "position = -1\n",
        "\n",
        "while start <= end:\n",
        "    middle = (start + end) // 2\n",
        "\n",
        "    if values[middle] > limit:\n",
        "        position = middle\n",
        "        end = middle - 1\n",
        "    else:\n",
        "        start = middle + 1\n",
        "\n",
        "if position != -1:\n",
        "    print(\"Found at position:\", position)\n",
        "else:\n",
        "    print(\"Not found\")\n"
      ]
    }
  ]
}