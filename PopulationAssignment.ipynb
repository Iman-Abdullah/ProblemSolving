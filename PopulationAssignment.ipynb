{
 "cells": [
  {
   "cell_type": "code",
   "execution_count": 11,
   "id": "2cfed8ef-dc2c-4a9d-bfb9-35d5cd78dcef",
   "metadata": {},
   "outputs": [
    {
     "name": "stdout",
     "output_type": "stream",
     "text": [
      "Total number of countries: 10\n",
      "Country with highest population: China\n",
      "Country with lowest population: Germany\n",
      "Average population: 432768169.3\n",
      "\n",
      "Top 5 countries by population:\n",
      "China: 1439323776\n",
      "India: 1380004385\n",
      "USA: 331002651\n",
      "Indonesia: 273523615\n",
      "Brazil: 212559417\n"
     ]
    }
   ],
   "source": [
    "#a: Read the File\n",
    "file = open('countries_population.txt', 'r')\n",
    "lines = file.readlines()\n",
    "file.close()  \n",
    "\n",
    "countries = []\n",
    "populations = []\n",
    "\n",
    "# b: Process the Data\n",
    "for line in lines:\n",
    "    parts = line.strip().split(',')\n",
    "    if len(parts) == 2:  \n",
    "        country = parts[0].strip()\n",
    "        population = parts[1].strip()\n",
    "        if population.isdigit():  \n",
    "            countries.append(country)\n",
    "            populations.append(int(population))\n",
    "\n",
    "#c: Display Information\n",
    "print(f\"Total number of countries: {len(countries)}\")\n",
    "print(f\"Country with highest population: {countries[populations.index(max(populations))]}\")\n",
    "print(f\"Country with lowest population: {countries[populations.index(min(populations))]}\")\n",
    "print(f\"Average population: {sum(populations)/len(populations)}\")\n",
    "\n",
    "# Sort all countries by their population in descending order and display the top 5 countries.\n",
    "sorted_list = []\n",
    "for i in range(len(countries)):\n",
    "    sorted_list.append((populations[i], countries[i]))\n",
    "sorted_list.sort(reverse=True)\n",
    "\n",
    "print(\"\\nTop 5 countries by population:\")\n",
    "for i in range(5):\n",
    "    print(f\"{sorted_list[i][1]}: {sorted_list[i][0]}\")\n",
    "\n",
    "#d: Save to New File\n",
    "output_file = open('high_population_countries.txt', 'w')\n",
    "for i in range(len(countries)):\n",
    "    if populations[i] > 500000000:\n",
    "        output_file.write(countries[i] + '\\n')\n",
    "output_file.close() "
   ]
  },
  {
   "cell_type": "code",
   "execution_count": null,
   "id": "c4c1c7a8-930d-44da-8fc7-d18b205ceda5",
   "metadata": {},
   "outputs": [],
   "source": []
  }
 ],
 "metadata": {
  "kernelspec": {
   "display_name": "Python 3 (ipykernel)",
   "language": "python",
   "name": "python3"
  },
  "language_info": {
   "codemirror_mode": {
    "name": "ipython",
    "version": 3
   },
   "file_extension": ".py",
   "mimetype": "text/x-python",
   "name": "python",
   "nbconvert_exporter": "python",
   "pygments_lexer": "ipython3",
   "version": "3.12.7"
  }
 },
 "nbformat": 4,
 "nbformat_minor": 5
}
