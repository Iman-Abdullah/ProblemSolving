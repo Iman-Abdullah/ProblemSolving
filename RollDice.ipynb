{
  "nbformat": 4,
  "nbformat_minor": 0,
  "metadata": {
    "colab": {
      "provenance": []
    },
    "kernelspec": {
      "name": "python3",
      "display_name": "Python 3"
    },
    "language_info": {
      "name": "python"
    }
  },
  "cells": [
    {
      "cell_type": "code",
      "execution_count": 17,
      "metadata": {
        "colab": {
          "base_uri": "https://localhost:8080/"
        },
        "id": "Bxf3gSfQL523",
        "outputId": "ca2942e9-b094-4be3-9995-5e965baccb73"
      },
      "outputs": [
        {
          "output_type": "stream",
          "name": "stdout",
          "text": [
            "Enter die rolls: 123456\n",
            "1 1 1 1 1 1 \n"
          ]
        }
      ],
      "source": [
        "sides = 6\n",
        "inputs = input(\"Enter die rolls: \")\n",
        "counters = [0] * (sides + 1)\n",
        "\n",
        "for item in inputs:\n",
        "    if not item.isdigit():\n",
        "        print(\"ERROR\")\n",
        "        counters = [0] * (sides + 1)\n",
        "        break\n",
        "    value = int(item)\n",
        "    if 1 <= value <= sides:\n",
        "        counters[value] += 1\n",
        "    else:\n",
        "        print(\"ERROR\")\n",
        "        counters = [0] * (sides + 1)\n",
        "        break\n",
        "\n",
        "for i in range(1, len(counters)):\n",
        "    print(counters[i], end=' ')\n",
        "print()\n"
      ]
    }
  ]
}