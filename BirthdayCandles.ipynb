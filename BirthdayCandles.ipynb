{
  "metadata": {
    "kernelspec": {
      "name": "python",
      "display_name": "Python (Pyodide)",
      "language": "python"
    },
    "language_info": {
      "codemirror_mode": {
        "name": "python",
        "version": 3
      },
      "file_extension": ".py",
      "mimetype": "text/x-python",
      "name": "python",
      "nbconvert_exporter": "python",
      "pygments_lexer": "ipython3",
      "version": "3.8"
    },
    "colab": {
      "provenance": []
    }
  },
  "nbformat_minor": 5,
  "nbformat": 4,
  "cells": [
    {
      "id": "8dc82f90-70e4-4903-80ad-5f31251006e8",
      "cell_type": "code",
      "source": [
        "candles = [4, 1, 4, 3]\n",
        "tallest = max(candles)\n",
        "count = candles.count(tallest)\n",
        "print(count)"
      ],
      "metadata": {
        "trusted": true,
        "colab": {
          "base_uri": "https://localhost:8080/"
        },
        "id": "8dc82f90-70e4-4903-80ad-5f31251006e8",
        "outputId": "79824344-96b0-49fa-a864-b75cb0f6bd18"
      },
      "outputs": [
        {
          "output_type": "stream",
          "name": "stdout",
          "text": [
            "2\n"
          ]
        }
      ],
      "execution_count": 7
    },
    {
      "cell_type": "code",
      "source": [
        "# Candles list\n",
        "candles = [4, 1, 4, 3]"
      ],
      "metadata": {
        "id": "P4WHMOIvwWNh"
      },
      "id": "P4WHMOIvwWNh",
      "execution_count": 8,
      "outputs": []
    },
    {
      "cell_type": "code",
      "source": [
        "# Step 1: For loop to find the tallest candle\n",
        "tallest = candles[0]\n",
        "for candle in candles:\n",
        "    if candle > tallest:\n",
        "        tallest = candle\n"
      ],
      "metadata": {
        "id": "rAn--zCk37cf"
      },
      "id": "rAn--zCk37cf",
      "execution_count": 9,
      "outputs": []
    },
    {
      "cell_type": "code",
      "source": [
        "# Step 2: For loop to count how many tallest candles\n",
        "count = 0\n",
        "for candle in candles:\n",
        "    if candle == tallest:\n",
        "        count += 1"
      ],
      "metadata": {
        "id": "ES2nr_2i3_6T"
      },
      "id": "ES2nr_2i3_6T",
      "execution_count": 10,
      "outputs": []
    },
    {
      "cell_type": "code",
      "source": [
        "# Result\n",
        "print(count)"
      ],
      "metadata": {
        "colab": {
          "base_uri": "https://localhost:8080/"
        },
        "id": "saCcXmA54FyJ",
        "outputId": "e68c72bc-e0be-4b01-a166-08d9e907d218"
      },
      "id": "saCcXmA54FyJ",
      "execution_count": 11,
      "outputs": [
        {
          "output_type": "stream",
          "name": "stdout",
          "text": [
            "2\n"
          ]
        }
      ]
    }
  ]
}