{
  "metadata": {
    "kernelspec": {
      "name": "python",
      "display_name": "Python (Pyodide)",
      "language": "python"
    },
    "language_info": {
      "codemirror_mode": {
        "name": "python",
        "version": 3
      },
      "file_extension": ".py",
      "mimetype": "text/x-python",
      "name": "python",
      "nbconvert_exporter": "python",
      "pygments_lexer": "ipython3",
      "version": "3.8"
    },
    "colab": {
      "provenance": []
    }
  },
  "nbformat_minor": 5,
  "nbformat": 4,
  "cells": [
    {
      "id": "8dc82f90-70e4-4903-80ad-5f31251006e8",
      "cell_type": "code",
      "source": [
        "candles = [4, 1, 4, 3]\n",
        "tallest = max(candles)\n",
        "count = candles.count(tallest)\n",
        "print(count)"
      ],
      "metadata": {
        "trusted": true,
        "colab": {
          "base_uri": "https://localhost:8080/"
        },
        "id": "8dc82f90-70e4-4903-80ad-5f31251006e8",
        "outputId": "18eff496-8d69-4708-911e-6876b8614ba5"
      },
      "outputs": [
        {
          "output_type": "stream",
          "name": "stdout",
          "text": [
            "2\n"
          ]
        }
      ],
      "execution_count": 2
    },
    {
      "cell_type": "code",
      "source": [
        "candles = [4, 1, 4, 3]"
      ],
      "metadata": {
        "id": "P4WHMOIvwWNh"
      },
      "id": "P4WHMOIvwWNh",
      "execution_count": 3,
      "outputs": []
    },
    {
      "id": "36a86235-afd0-4316-bb01-9ccca67b2fc4",
      "cell_type": "code",
      "source": [
        "# Step 1: Find tallest candle\n",
        "tallest = candles[0]\n",
        "for i in range(1, len(candles)):\n",
        "    if candles[i] > tallest:\n",
        "        tallest = candles[i]"
      ],
      "metadata": {
        "trusted": true,
        "id": "36a86235-afd0-4316-bb01-9ccca67b2fc4"
      },
      "outputs": [],
      "execution_count": 4
    },
    {
      "cell_type": "code",
      "source": [
        "# Step 2: Count how many candles are of that height\n",
        "count = 0\n",
        "for i in range(len(candles)):\n",
        "    if candles[i] == tallest:\n",
        "        count += 1"
      ],
      "metadata": {
        "id": "BsnGQ1j20LCX"
      },
      "id": "BsnGQ1j20LCX",
      "execution_count": 5,
      "outputs": []
    },
    {
      "cell_type": "code",
      "source": [
        "# Output\n",
        "print(count)"
      ],
      "metadata": {
        "colab": {
          "base_uri": "https://localhost:8080/"
        },
        "id": "NvyjB4d00N_g",
        "outputId": "a0518fe4-61f1-4cf3-fa23-b03cab142a2d"
      },
      "id": "NvyjB4d00N_g",
      "execution_count": 6,
      "outputs": [
        {
          "output_type": "stream",
          "name": "stdout",
          "text": [
            "2\n"
          ]
        }
      ]
    }
  ]
}